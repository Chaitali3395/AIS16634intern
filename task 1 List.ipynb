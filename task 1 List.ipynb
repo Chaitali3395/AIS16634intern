{
 "cells": [
  {
   "cell_type": "code",
   "execution_count": 2,
   "id": "762b73e3-ae72-4044-bc95-026851e6f6f8",
   "metadata": {},
   "outputs": [],
   "source": [
    "#List\n",
    "#Lists are used to store multiple items in a single variable.\n",
    "\n",
    "#Lists are one of 4 built-in data types in Python used to store collections of data, the other 3 are Tuple, Set, and Dictionary, all with different qualities and usage.\n",
    "\n",
    "#Lists are created using square brackets:"
   ]
  },
  {
   "cell_type": "code",
   "execution_count": 3,
   "id": "1113950a-1722-4eed-948f-523facb100d6",
   "metadata": {},
   "outputs": [
    {
     "name": "stdout",
     "output_type": "stream",
     "text": [
      "['apple', 'banana', 'cherry']\n"
     ]
    }
   ],
   "source": [
    "l = [\"apple\", \"banana\", \"cherry\"]\n",
    "print(l)\n"
   ]
  },
  {
   "cell_type": "code",
   "execution_count": 4,
   "id": "af3d2298-0fab-4bbb-ab99-a6bd74b89b34",
   "metadata": {},
   "outputs": [
    {
     "name": "stdout",
     "output_type": "stream",
     "text": [
      "['apple', 'banana', 'cherry', 'apple', 'cherry']\n"
     ]
    }
   ],
   "source": [
    "#List items are ordered, changeable, and allow duplicate values.\n",
    "\n",
    "#List items are indexed, the first item has index [0], the second item has index [1] etc.\n",
    "\n",
    "#Ordered\n",
    "#When we say that lists are ordered, it means that the items have a defined order, and that order will not change.\n",
    "\n",
    "#If you add new items to a list, the new items will be placed at the end of the list.\n",
    "#Changeable\n",
    "#The list is changeable, meaning that we can change, add, and remove items in a list after it has been created.\n",
    "\n",
    "#Allow Duplicates\n",
    "#Since lists are indexed, lists can have items with the same value:\n",
    "thislist = [\"apple\", \"banana\", \"cherry\", \"apple\", \"cherry\"]\n",
    "print(thislist)"
   ]
  },
  {
   "cell_type": "code",
   "execution_count": 5,
   "id": "0328f43e-9d61-411d-aa63-69dba485d4fc",
   "metadata": {},
   "outputs": [
    {
     "name": "stdout",
     "output_type": "stream",
     "text": [
      "3\n"
     ]
    }
   ],
   "source": [
    "thislist = [\"apple\", \"banana\", \"cherry\"]\n",
    "print(len(thislist))"
   ]
  },
  {
   "cell_type": "code",
   "execution_count": 8,
   "id": "801d2cda-1e1c-4b42-b575-7d7030f61246",
   "metadata": {},
   "outputs": [
    {
     "data": {
      "text/plain": [
       "list"
      ]
     },
     "execution_count": 8,
     "metadata": {},
     "output_type": "execute_result"
    }
   ],
   "source": [
    "\n",
    "thislist = [\"apple\", \"banana\", \"cherry\"]\n",
    "type(thislist)"
   ]
  },
  {
   "cell_type": "code",
   "execution_count": 10,
   "id": "9a0ea6a0-8dea-4538-b06b-26c71e145eeb",
   "metadata": {},
   "outputs": [
    {
     "name": "stdout",
     "output_type": "stream",
     "text": [
      "['abc', 34, True, 40, 'male']\n"
     ]
    }
   ],
   "source": [
    "list1 = [\"abc\", 34, True, 40, \"male\"]#mixed datatypes\n",
    "print(list1)"
   ]
  },
  {
   "cell_type": "code",
   "execution_count": 11,
   "id": "49ac7716-d760-4750-a58a-7b8375c2cd57",
   "metadata": {},
   "outputs": [
    {
     "name": "stdout",
     "output_type": "stream",
     "text": [
      "[['rat', 7, 0], 8, ['l']]\n"
     ]
    }
   ],
   "source": [
    "my_list=[[\"rat\",7,0],8,['l']]\n",
    "print(my_list)"
   ]
  },
  {
   "cell_type": "code",
   "execution_count": 13,
   "id": "c483c5bd-65a7-48ee-b64b-79d5dc031829",
   "metadata": {},
   "outputs": [
    {
     "data": {
      "text/plain": [
       "['rat', 7, 0]"
      ]
     },
     "execution_count": 13,
     "metadata": {},
     "output_type": "execute_result"
    }
   ],
   "source": [
    "my_list[0]"
   ]
  },
  {
   "cell_type": "code",
   "execution_count": 15,
   "id": "a3c7338c-7c9e-443c-a813-3b6434cdc6cd",
   "metadata": {},
   "outputs": [
    {
     "data": {
      "text/plain": [
       "['l']"
      ]
     },
     "execution_count": 15,
     "metadata": {},
     "output_type": "execute_result"
    }
   ],
   "source": [
    "my_list[-1]"
   ]
  },
  {
   "cell_type": "code",
   "execution_count": 17,
   "id": "179231f6-1cc4-43b6-8f28-fc0997d597af",
   "metadata": {},
   "outputs": [
    {
     "data": {
      "text/plain": [
       "9"
      ]
     },
     "execution_count": 17,
     "metadata": {},
     "output_type": "execute_result"
    }
   ],
   "source": [
    "n_list=[\"sad\",[2,0,1,[9]]]\n",
    "n_list[-1][3][-1]"
   ]
  },
  {
   "cell_type": "code",
   "execution_count": 20,
   "id": "00a22350-98fb-4ef5-8cd0-2c1b99fc4903",
   "metadata": {},
   "outputs": [
    {
     "data": {
      "text/plain": [
       "9"
      ]
     },
     "execution_count": 20,
     "metadata": {},
     "output_type": "execute_result"
    }
   ],
   "source": [
    "n_list[-1][3][-1]"
   ]
  },
  {
   "cell_type": "code",
   "execution_count": 21,
   "id": "e906a669-8d08-4e4b-b3b5-5298ec5ba3b1",
   "metadata": {},
   "outputs": [
    {
     "data": {
      "text/plain": [
       "1"
      ]
     },
     "execution_count": 21,
     "metadata": {},
     "output_type": "execute_result"
    }
   ],
   "source": [
    "n_list[1][2]"
   ]
  },
  {
   "cell_type": "code",
   "execution_count": 23,
   "id": "b7ed7c27-11ff-42f3-b367-eeb4c8591b8c",
   "metadata": {},
   "outputs": [
    {
     "data": {
      "text/plain": [
       "['sad', [2, 0, 1, [9]]]"
      ]
     },
     "execution_count": 23,
     "metadata": {},
     "output_type": "execute_result"
    }
   ],
   "source": [
    "n_list[:]"
   ]
  },
  {
   "cell_type": "code",
   "execution_count": 25,
   "id": "09c0e2a8-63d9-4eec-8fc2-62d693230836",
   "metadata": {},
   "outputs": [
    {
     "data": {
      "text/plain": [
       "['u', 'h']"
      ]
     },
     "execution_count": 25,
     "metadata": {},
     "output_type": "execute_result"
    }
   ],
   "source": [
    "ll=['o','p','y','u','h','i','j']\n",
    "ll[3:5]"
   ]
  },
  {
   "cell_type": "code",
   "execution_count": 29,
   "id": "d3e96856-8193-4601-8c24-cf8f96ca1f1a",
   "metadata": {},
   "outputs": [
    {
     "data": {
      "text/plain": [
       "['h', 'i', 'j']"
      ]
     },
     "execution_count": 29,
     "metadata": {},
     "output_type": "execute_result"
    }
   ],
   "source": [
    "ll[4:]"
   ]
  },
  {
   "cell_type": "code",
   "execution_count": 33,
   "id": "2d0d043b-6bc0-416d-b6ad-31bc6a60ab1f",
   "metadata": {},
   "outputs": [
    {
     "name": "stdout",
     "output_type": "stream",
     "text": [
      "['o', 'hii', 'y', 'u', 'h', 'i', 'j']\n"
     ]
    }
   ],
   "source": [
    "ll[1]=\"hii\"\n",
    "print(ll)"
   ]
  },
  {
   "cell_type": "code",
   "execution_count": 3,
   "id": "73ad30fe-705a-451b-ad87-203334329c14",
   "metadata": {},
   "outputs": [
    {
     "data": {
      "text/plain": [
       "['apple', 'banana', 'cherry', 1, 2, 3, 'apple']"
      ]
     },
     "execution_count": 3,
     "metadata": {},
     "output_type": "execute_result"
    }
   ],
   "source": [
    "x=[\"apple\",\"banana\",\"cherry\",1,2,3]\n",
    "x.append(\"apple\")\n",
    "x"
   ]
  },
  {
   "cell_type": "code",
   "execution_count": 5,
   "id": "412dfb06-55ca-403d-85e2-a9db6c8e4393",
   "metadata": {},
   "outputs": [
    {
     "data": {
      "text/plain": [
       "[1, 13, 22, 98]"
      ]
     },
     "execution_count": 5,
     "metadata": {},
     "output_type": "execute_result"
    }
   ],
   "source": [
    "y=[22,98,13,1]\n",
    "y.sort()\n",
    "y"
   ]
  },
  {
   "cell_type": "code",
   "execution_count": 8,
   "id": "f600a484-c85f-479d-8764-0645527b24d0",
   "metadata": {},
   "outputs": [
    {
     "data": {
      "text/plain": [
       "2"
      ]
     },
     "execution_count": 8,
     "metadata": {},
     "output_type": "execute_result"
    }
   ],
   "source": [
    "x.count(\"apple\")"
   ]
  },
  {
   "cell_type": "code",
   "execution_count": 11,
   "id": "08815890-e7a1-4c95-8f69-4854c3887501",
   "metadata": {},
   "outputs": [
    {
     "data": {
      "text/plain": [
       "['banana', 'cherry', 1, 2, 3, 'apple']"
      ]
     },
     "execution_count": 11,
     "metadata": {},
     "output_type": "execute_result"
    }
   ],
   "source": [
    "x.remove(\"apple\")\n",
    "x"
   ]
  },
  {
   "cell_type": "code",
   "execution_count": 12,
   "id": "80549538-f0b4-4f22-a875-3a8e3a7d71d5",
   "metadata": {},
   "outputs": [
    {
     "data": {
      "text/plain": [
       "['banana', 'cherry', 1, 2, 3]"
      ]
     },
     "execution_count": 12,
     "metadata": {},
     "output_type": "execute_result"
    }
   ],
   "source": [
    "x.pop(-1)\n",
    "x"
   ]
  },
  {
   "cell_type": "code",
   "execution_count": 14,
   "id": "f1dadec6-ec45-4c70-b178-9b516dae3f56",
   "metadata": {},
   "outputs": [
    {
     "data": {
      "text/plain": [
       "[]"
      ]
     },
     "execution_count": 14,
     "metadata": {},
     "output_type": "execute_result"
    }
   ],
   "source": [
    "x.clear()#clears the list\n",
    "x"
   ]
  },
  {
   "cell_type": "code",
   "execution_count": 18,
   "id": "3e466692-255b-4b1c-b657-ad0dd62767a8",
   "metadata": {},
   "outputs": [
    {
     "data": {
      "text/plain": [
       "['banana', 'cherry', 1, 2, 3]"
      ]
     },
     "execution_count": 18,
     "metadata": {},
     "output_type": "execute_result"
    }
   ],
   "source": [
    "x=['banana', 'cherry', 1, 2, 3]\n",
    "x1=x.copy()#copies one list into other\n",
    "x1"
   ]
  },
  {
   "cell_type": "code",
   "execution_count": 21,
   "id": "95f99c35-442d-4b68-a255-dba1d92b5baf",
   "metadata": {},
   "outputs": [
    {
     "data": {
      "text/plain": [
       "[3, 2, 1, 'cherry', 'banana']"
      ]
     },
     "execution_count": 21,
     "metadata": {},
     "output_type": "execute_result"
    }
   ],
   "source": [
    "x=['banana', 'cherry', 1, 2, 3]\n",
    "x.reverse()#reverses the list\n",
    "x"
   ]
  },
  {
   "cell_type": "code",
   "execution_count": 22,
   "id": "1ae26538-0af5-4c32-9995-fdadd07244ca",
   "metadata": {},
   "outputs": [
    {
     "data": {
      "text/plain": [
       "3"
      ]
     },
     "execution_count": 22,
     "metadata": {},
     "output_type": "execute_result"
    }
   ],
   "source": [
    "x.index(\"cherry\")#gives index of the element"
   ]
  },
  {
   "cell_type": "code",
   "execution_count": null,
   "id": "798914a9-ddfe-4e5e-8838-28928917bf2c",
   "metadata": {},
   "outputs": [],
   "source": []
  }
 ],
 "metadata": {
  "kernelspec": {
   "display_name": "Python 3 (ipykernel)",
   "language": "python",
   "name": "python3"
  },
  "language_info": {
   "codemirror_mode": {
    "name": "ipython",
    "version": 3
   },
   "file_extension": ".py",
   "mimetype": "text/x-python",
   "name": "python",
   "nbconvert_exporter": "python",
   "pygments_lexer": "ipython3",
   "version": "3.11.7"
  }
 },
 "nbformat": 4,
 "nbformat_minor": 5
}
