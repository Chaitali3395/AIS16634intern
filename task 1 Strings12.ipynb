{
 "cells": [
  {
   "cell_type": "code",
   "execution_count": 2,
   "id": "3ab41706-6625-4520-856d-0af97eadf4d4",
   "metadata": {},
   "outputs": [
    {
     "name": "stdout",
     "output_type": "stream",
     "text": [
      "It's alright\n",
      "He is called 'Johnny'\n",
      "He is called \"Johnny\"\n"
     ]
    }
   ],
   "source": [
    "#Strings\n",
    "#Strings in python are surrounded by either single quotation marks, or double quotation marks.\n",
    "#'hello' is the same as \"hello\".\n",
    "#You can display a string literal with the print() function:\n",
    "print(\"It's alright\")\n",
    "print(\"He is called 'Johnny'\")\n",
    "print('He is called \"Johnny\"')\n"
   ]
  },
  {
   "cell_type": "code",
   "execution_count": 5,
   "id": "749746b3-5825-49dd-a814-363b394f1bee",
   "metadata": {},
   "outputs": [
    {
     "name": "stdout",
     "output_type": "stream",
     "text": [
      "llo\n"
     ]
    }
   ],
   "source": [
    "b = \"Hello, World!\" #Get the characters from position 2 to position 5 (not included):\n",
    "print(b[2:5])"
   ]
  },
  {
   "cell_type": "code",
   "execution_count": 7,
   "id": "e7ca35aa-7a85-44e6-80de-99393eac7a44",
   "metadata": {},
   "outputs": [
    {
     "name": "stdout",
     "output_type": "stream",
     "text": [
      "Hello\n"
     ]
    }
   ],
   "source": [
    "b = \"Hello, World!\"\n",
    "print(b[:5]) #gets characters from start to 5(not included)"
   ]
  },
  {
   "cell_type": "code",
   "execution_count": 9,
   "id": "1a72da50-9534-426a-9fa2-e28f30956511",
   "metadata": {},
   "outputs": [
    {
     "name": "stdout",
     "output_type": "stream",
     "text": [
      "HELLO, WORLD!\n"
     ]
    }
   ],
   "source": [
    "a = \"Hello, World!\"\n",
    "print(a.upper())\n"
   ]
  },
  {
   "cell_type": "code",
   "execution_count": 11,
   "id": "8708b447-9878-4fa4-855f-a8800e1927f4",
   "metadata": {},
   "outputs": [
    {
     "name": "stdout",
     "output_type": "stream",
     "text": [
      "hello, world!\n"
     ]
    }
   ],
   "source": [
    "a = \"Hello, World!\"\n",
    "print(a.lower())\n"
   ]
  },
  {
   "cell_type": "code",
   "execution_count": 13,
   "id": "d19ef416-4507-4a07-9017-359aaa1b8b5b",
   "metadata": {},
   "outputs": [
    {
     "name": "stdout",
     "output_type": "stream",
     "text": [
      "Hello, World!\n"
     ]
    }
   ],
   "source": [
    "a = \" Hello, World! \"\n",
    "print(a.strip()) # returns \"Hello, World!\"The strip() method removes any whitespace from the beginning or the end:"
   ]
  },
  {
   "cell_type": "code",
   "execution_count": 15,
   "id": "dab47f00-2ff5-408e-a573-4024568c38e4",
   "metadata": {},
   "outputs": [
    {
     "name": "stdout",
     "output_type": "stream",
     "text": [
      "Jello, World!\n"
     ]
    }
   ],
   "source": [
    "a = \"Hello, World!\"\n",
    "print(a.replace(\"H\", \"J\"))"
   ]
  },
  {
   "cell_type": "code",
   "execution_count": 17,
   "id": "00c7e2dc-99da-46b8-bc4d-2c1a8bc2b4ac",
   "metadata": {},
   "outputs": [
    {
     "name": "stdout",
     "output_type": "stream",
     "text": [
      "['Hello', ' World!']\n"
     ]
    }
   ],
   "source": [
    "a = \"Hello, World!\"\n",
    "print(a.split(\",\")) # returns ['Hello', ' World!']"
   ]
  },
  {
   "cell_type": "code",
   "execution_count": 19,
   "id": "fbd549e3-cf3e-4400-85eb-ccea8d5d49e3",
   "metadata": {},
   "outputs": [
    {
     "name": "stdout",
     "output_type": "stream",
     "text": [
      "HelloWorld\n"
     ]
    }
   ],
   "source": [
    "a = \"Hello\"\n",
    "b = \"World\"\n",
    "c = a + b\n",
    "print(c)"
   ]
  },
  {
   "cell_type": "code",
   "execution_count": 23,
   "id": "d24fe670-f2de-4e26-a01a-c568efcdaa19",
   "metadata": {},
   "outputs": [
    {
     "name": "stdout",
     "output_type": "stream",
     "text": [
      "My name is John, I am 36\n"
     ]
    }
   ],
   "source": [
    "\n",
    "age = 36\n",
    "txt = f\"My name is John, I am {age}\" #Create an f-string:\n",
    "print(txt)\n",
    "\n"
   ]
  },
  {
   "cell_type": "code",
   "execution_count": null,
   "id": "32c47ecd-fc9e-483f-b4bf-0489d930770c",
   "metadata": {},
   "outputs": [],
   "source": []
  }
 ],
 "metadata": {
  "kernelspec": {
   "display_name": "Python 3 (ipykernel)",
   "language": "python",
   "name": "python3"
  },
  "language_info": {
   "codemirror_mode": {
    "name": "ipython",
    "version": 3
   },
   "file_extension": ".py",
   "mimetype": "text/x-python",
   "name": "python",
   "nbconvert_exporter": "python",
   "pygments_lexer": "ipython3",
   "version": "3.11.7"
  }
 },
 "nbformat": 4,
 "nbformat_minor": 5
}
