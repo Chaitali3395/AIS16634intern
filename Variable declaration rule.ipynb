{
 "cells": [
  {
   "cell_type": "markdown",
   "id": "28d61b70-631b-499f-a6c0-f0d024b25c89",
   "metadata": {},
   "source": [
    "A variable can have a short name (like x and y) or a more descriptive name (age, carname, total_volume). Rules for Python variables:\r\n",
    "A variable name must start with a letter or the underscore character\r\n",
    "A variable name cannot start with a number\r\n",
    "A variable name can only contain alpha-numeric characters and underscores (A-z, 0-9, and _ )\r\n",
    "Variable names are case-sensitive (age, Age and AGE are three different variables)\r\n",
    "A variable name cannot be any of the Python keywords."
   ]
  }
 ],
 "metadata": {
  "kernelspec": {
   "display_name": "Python 3 (ipykernel)",
   "language": "python",
   "name": "python3"
  },
  "language_info": {
   "codemirror_mode": {
    "name": "ipython",
    "version": 3
   },
   "file_extension": ".py",
   "mimetype": "text/x-python",
   "name": "python",
   "nbconvert_exporter": "python",
   "pygments_lexer": "ipython3",
   "version": "3.11.7"
  }
 },
 "nbformat": 4,
 "nbformat_minor": 5
}
