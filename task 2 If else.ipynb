{
 "cells": [
  {
   "cell_type": "code",
   "execution_count": 2,
   "id": "0f8b8822-9265-4ac7-9769-ae72b36fe323",
   "metadata": {},
   "outputs": [
    {
     "name": "stdin",
     "output_type": "stream",
     "text": [
      "enter a num -9\n"
     ]
    },
    {
     "name": "stdout",
     "output_type": "stream",
     "text": [
      "negative\n"
     ]
    }
   ],
   "source": [
    "#if else\n",
    "#it us used to check two conditions if firts condition is false then the next is tested\n",
    "n=int(input(\"enter a num\"))\n",
    "if n>0:\n",
    "    print(\"positive\")\n",
    "else:\n",
    "    print(\"negative\")"
   ]
  },
  {
   "cell_type": "code",
   "execution_count": 4,
   "id": "0969c5da-edf3-430f-b599-69ad4968b4ad",
   "metadata": {},
   "outputs": [
    {
     "name": "stdin",
     "output_type": "stream",
     "text": [
      "enter a year 2018\n"
     ]
    },
    {
     "name": "stdout",
     "output_type": "stream",
     "text": [
      "not leap\n"
     ]
    }
   ],
   "source": [
    "#2\n",
    "y=int(input(\"enter a year\"))\n",
    "if y%4==0:\n",
    "    print(\"leap year\")\n",
    "else:\n",
    "    print(\"not leap\")"
   ]
  },
  {
   "cell_type": "code",
   "execution_count": 7,
   "id": "05704cea-d9a8-470c-b027-fd7de8f7e56d",
   "metadata": {},
   "outputs": [
    {
     "name": "stdin",
     "output_type": "stream",
     "text": [
      "enter a letter w\n"
     ]
    },
    {
     "name": "stdout",
     "output_type": "stream",
     "text": [
      "consonant\n"
     ]
    }
   ],
   "source": [
    "#3\n",
    "char=input(\"enter a letter\")\n",
    "if char in 'aeiou' or char in 'AEIOU':\n",
    "    print(\"vowel\")\n",
    "else:\n",
    "    print(\"consonant\")"
   ]
  },
  {
   "cell_type": "code",
   "execution_count": 9,
   "id": "81f768dd-0000-4bca-bf97-7a4dd9d01616",
   "metadata": {},
   "outputs": [
    {
     "name": "stdin",
     "output_type": "stream",
     "text": [
      "enter a num 12\n",
      "enter second num 3\n"
     ]
    },
    {
     "name": "stdout",
     "output_type": "stream",
     "text": [
      "12 is greater\n"
     ]
    }
   ],
   "source": [
    "#4\n",
    "n1=int(input(\"enter a num\"))\n",
    "n2=int(input(\"enter second num\"))\n",
    "if n1>n2:\n",
    "    print( n1,\"is greater\")\n",
    "else:\n",
    "    print( n2,\"is greater\")"
   ]
  },
  {
   "cell_type": "code",
   "execution_count": 11,
   "id": "dbbf4d4b-48c4-49fc-8f3b-7c1180dab252",
   "metadata": {},
   "outputs": [
    {
     "name": "stdin",
     "output_type": "stream",
     "text": [
      "enter a num 76\n"
     ]
    },
    {
     "name": "stdout",
     "output_type": "stream",
     "text": [
      "even\n"
     ]
    }
   ],
   "source": [
    "#5\n",
    "n=int(input(\"enter a num\"))\n",
    "if n %2==0:\n",
    "    print(\"even\")\n",
    "else:\n",
    "    print(\"odd\")\n",
    "      "
   ]
  },
  {
   "cell_type": "code",
   "execution_count": 13,
   "id": "fd646b33-0015-4780-a9d7-c78887a2c25e",
   "metadata": {},
   "outputs": [
    {
     "name": "stdin",
     "output_type": "stream",
     "text": [
      "enter mrks 76\n"
     ]
    },
    {
     "name": "stdout",
     "output_type": "stream",
     "text": [
      "dintinction\n"
     ]
    }
   ],
   "source": [
    "mrks=int(input(\"enter mrks\"))\n",
    "if mrks >=75:\n",
    "    print(\"dintinction\")\n",
    "else:\n",
    "    print(\"not distinction\")\n",
    "         "
   ]
  },
  {
   "cell_type": "code",
   "execution_count": 15,
   "id": "e6af8dc5-f022-4e38-93f1-4d8ba8c60594",
   "metadata": {},
   "outputs": [
    {
     "name": "stdin",
     "output_type": "stream",
     "text": [
      "enter your age 54\n"
     ]
    },
    {
     "name": "stdout",
     "output_type": "stream",
     "text": [
      "can vote\n"
     ]
    }
   ],
   "source": [
    "#7\n",
    "age=int(input(\"enter your age\"))\n",
    "if age>=18:\n",
    "    print(\"can vote\")\n",
    "else:\n",
    "    print(\"cannot vote\")"
   ]
  },
  {
   "cell_type": "code",
   "execution_count": 17,
   "id": "d83d8485-8df6-4ba5-a5f3-efd19e30873e",
   "metadata": {},
   "outputs": [
    {
     "name": "stdin",
     "output_type": "stream",
     "text": [
      "enter num 67\n"
     ]
    },
    {
     "name": "stdout",
     "output_type": "stream",
     "text": [
      "not within range\n"
     ]
    }
   ],
   "source": [
    "#8\n",
    "n=int(input(\"enter num\"))\n",
    "if n<=50 and n>=10:\n",
    "    print(\"withun range\")\n",
    "else:\n",
    "    print(\"not within range\")"
   ]
  },
  {
   "cell_type": "code",
   "execution_count": 19,
   "id": "32be41f6-f716-4533-8ff4-058dc7c765a3",
   "metadata": {},
   "outputs": [
    {
     "name": "stdout",
     "output_type": "stream",
     "text": [
      "empty\n"
     ]
    }
   ],
   "source": [
    "#9\n",
    "m=[]\n",
    "if m:\n",
    "    print(\"not empty\")\n",
    "else:\n",
    "    print(\"empty\")"
   ]
  },
  {
   "cell_type": "code",
   "execution_count": 21,
   "id": "01b4db44-e7be-4389-b8ed-21000459a992",
   "metadata": {},
   "outputs": [
    {
     "name": "stdin",
     "output_type": "stream",
     "text": [
      "enter a string hi\n"
     ]
    },
    {
     "name": "stdout",
     "output_type": "stream",
     "text": [
      "not empty\n"
     ]
    }
   ],
   "source": [
    "#10\n",
    "st=input(\"enter a string\")\n",
    "if st:\n",
    "    print(\"not empty\")\n",
    "else:\n",
    "    print(\"empty\")"
   ]
  },
  {
   "cell_type": "code",
   "execution_count": null,
   "id": "6de70bb3-f664-482d-86ad-b3025e706b09",
   "metadata": {},
   "outputs": [],
   "source": []
  }
 ],
 "metadata": {
  "kernelspec": {
   "display_name": "Python 3 (ipykernel)",
   "language": "python",
   "name": "python3"
  },
  "language_info": {
   "codemirror_mode": {
    "name": "ipython",
    "version": 3
   },
   "file_extension": ".py",
   "mimetype": "text/x-python",
   "name": "python",
   "nbconvert_exporter": "python",
   "pygments_lexer": "ipython3",
   "version": "3.11.7"
  }
 },
 "nbformat": 4,
 "nbformat_minor": 5
}
