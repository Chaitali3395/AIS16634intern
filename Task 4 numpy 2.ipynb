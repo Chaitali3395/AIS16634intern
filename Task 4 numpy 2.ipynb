{
 "cells": [
  {
   "cell_type": "code",
   "execution_count": 2,
   "id": "31b6bc19-d9c1-4f92-9c28-2c48336b38b8",
   "metadata": {},
   "outputs": [
    {
     "name": "stdout",
     "output_type": "stream",
     "text": [
      "60\n"
     ]
    }
   ],
   "source": [
    "#Generate a random integer from 0 to 100:\n",
    "from numpy import random\n",
    "\n",
    "x = random.randint(100)\n",
    "\n",
    "print(x)"
   ]
  },
  {
   "cell_type": "code",
   "execution_count": 4,
   "id": "5909fb73-a0db-438f-9bef-dd93d5fa8a77",
   "metadata": {},
   "outputs": [
    {
     "name": "stdout",
     "output_type": "stream",
     "text": [
      "0.440898959921443\n"
     ]
    }
   ],
   "source": [
    "#Generate a random float from 0 to 1:\n",
    "\n",
    "from numpy import random\n",
    "\n",
    "x = random.rand()\n",
    "\n",
    "print(x)"
   ]
  },
  {
   "cell_type": "code",
   "execution_count": 5,
   "id": "944f2be6-1607-4830-9365-8b09bf48866e",
   "metadata": {},
   "outputs": [
    {
     "name": "stdout",
     "output_type": "stream",
     "text": [
      "[25 87 51 35 12]\n"
     ]
    }
   ],
   "source": [
    "#Generate a 1-D array containing 5 random integers from 0 to 100:\n",
    "from numpy import random\n",
    "x=random.randint(100,size=(5))\n",
    "print(x)"
   ]
  },
  {
   "cell_type": "code",
   "execution_count": 6,
   "id": "dfe5ce52-1fce-42ff-97a6-edc93ad9c0a3",
   "metadata": {},
   "outputs": [
    {
     "name": "stdout",
     "output_type": "stream",
     "text": [
      "[[68 44 43 71 93]\n",
      " [37  6 68  1 96]\n",
      " [46 60 22 67  2]]\n"
     ]
    }
   ],
   "source": [
    "#Generate a 2-D array with 3 rows, each row containing 5 random integers from 0 to 100:\n",
    "from numpy import random\n",
    "\n",
    "x = random.randint(100, size=(3, 5))\n",
    "\n",
    "print(x)\n"
   ]
  },
  {
   "cell_type": "code",
   "execution_count": 7,
   "id": "62fafc39-0a12-4ea2-b1e2-4dc37afc7f36",
   "metadata": {},
   "outputs": [
    {
     "name": "stdout",
     "output_type": "stream",
     "text": [
      "[0.62702896 0.378225   0.07609822 0.07635438 0.71938296]\n"
     ]
    }
   ],
   "source": [
    "from numpy import random\n",
    "\n",
    "x = random.rand(5)\n",
    "\n",
    "print(x)"
   ]
  },
  {
   "cell_type": "code",
   "execution_count": 8,
   "id": "b4b78e0b-44df-47aa-8b9b-07b1a53552de",
   "metadata": {},
   "outputs": [
    {
     "name": "stdout",
     "output_type": "stream",
     "text": [
      "[[0.66830509 0.76754702 0.01105028 0.79487489 0.48086439]\n",
      " [0.20899903 0.14334992 0.62232202 0.37904157 0.37081259]\n",
      " [0.86750909 0.35746298 0.37049919 0.94060271 0.88379036]]\n"
     ]
    }
   ],
   "source": [
    "from numpy import random\n",
    "\n",
    "x = random.rand(3, 5)\n",
    "\n",
    "print(x)"
   ]
  },
  {
   "cell_type": "code",
   "execution_count": 10,
   "id": "6cc226ea-e126-43cf-b725-b86fa7f3913a",
   "metadata": {},
   "outputs": [
    {
     "name": "stdout",
     "output_type": "stream",
     "text": [
      "5\n"
     ]
    }
   ],
   "source": [
    "from numpy import random\n",
    "\n",
    "x = random.choice([3, 5, 7, 9])\n",
    "\n",
    "print(x)"
   ]
  },
  {
   "cell_type": "code",
   "execution_count": 11,
   "id": "297d803c-b532-4c06-aec6-489a83bb8a52",
   "metadata": {},
   "outputs": [
    {
     "name": "stdout",
     "output_type": "stream",
     "text": [
      "[[3 9 9 5 3]\n",
      " [7 9 3 9 7]\n",
      " [9 3 7 9 9]]\n"
     ]
    }
   ],
   "source": [
    "from numpy import random\n",
    "\n",
    "x = random.choice([3, 5, 7, 9], size=(3, 5))\n",
    "\n",
    "print(x)"
   ]
  },
  {
   "cell_type": "code",
   "execution_count": 12,
   "id": "c460e786-a84a-4cba-b81f-80afb72b4ea9",
   "metadata": {},
   "outputs": [
    {
     "name": "stdout",
     "output_type": "stream",
     "text": [
      "[7 7 7 7 7 5 7 3 5 5 3 7 7 7 5 5 7 5 5 7 3 7 5 7 7 7 7 7 5 7 7 3 7 5 7 3 7\n",
      " 3 7 5 7 3 7 7 3 7 7 5 7 5 5 7 3 7 7 3 5 3 7 5 5 7 7 7 5 7 5 7 5 7 5 5 7 7\n",
      " 5 7 7 3 7 5 5 7 7 7 7 5 5 7 7 5 7 7 7 7 7 5 7 5 5 5]\n"
     ]
    }
   ],
   "source": [
    "#Generate a 1-D array containing 100 values, where each value has to be 3, 5, 7 or 9.\n",
    "#The probability for the value to be 3 is set to be 0.1\n",
    "#The probability for the value to be 5 is set to be 0.3\n",
    "#The probability for the value to be 7 is set to be 0.6\n",
    "#The probability for the value to be 9 is set to be 0\n",
    "from numpy import random\n",
    "\n",
    "x = random.choice([3, 5, 7, 9], p=[0.1, 0.3, 0.6, 0.0], size=(100))\n",
    "\n",
    "print(x)"
   ]
  },
  {
   "cell_type": "code",
   "execution_count": 13,
   "id": "501add4b-eed4-4df0-bb99-26c9ed2c0fda",
   "metadata": {},
   "outputs": [
    {
     "name": "stdout",
     "output_type": "stream",
     "text": [
      "[[5 7 7 7 5]\n",
      " [7 7 7 7 7]\n",
      " [5 5 7 7 3]]\n"
     ]
    }
   ],
   "source": [
    "from numpy import random\n",
    "\n",
    "x = random.choice([3, 5, 7, 9], p=[0.1, 0.3, 0.6, 0.0], size=(3, 5))\n",
    "\n",
    "print(x)"
   ]
  },
  {
   "cell_type": "code",
   "execution_count": 14,
   "id": "9005bb06-2492-4b3f-bdfd-b8a2aa6b93ce",
   "metadata": {},
   "outputs": [
    {
     "name": "stdout",
     "output_type": "stream",
     "text": [
      "[4 1 3 2 5]\n"
     ]
    }
   ],
   "source": [
    "#Random Permutations of Elements\n",
    "#A permutation refers to an arrangement of elements. e.g. [3, 2, 1] is a permutation of [1, 2, 3] and vice-versa.\n",
    "#The NumPy Random module provides two methods for this: shuffle() and permutation().\n",
    "#Shuffling Arrays\n",
    "#Shuffle means changing arrangement of elements in-place. i.e. in the array itself.\n",
    "import numpy as np\n",
    "from numpy import random\n",
    "\n",
    "arr = np.array([1, 2, 3, 4, 5])\n",
    "\n",
    "random.shuffle(arr)#The shuffle() method makes changes to the original array.\n",
    "\n",
    "print(arr)"
   ]
  },
  {
   "cell_type": "code",
   "execution_count": 15,
   "id": "2d8ae7b3-4598-42c0-b859-913771a6ec72",
   "metadata": {},
   "outputs": [
    {
     "name": "stdout",
     "output_type": "stream",
     "text": [
      "[5 2 1 3 4]\n"
     ]
    }
   ],
   "source": [
    "from numpy import random\n",
    "import numpy as np\n",
    "\n",
    "arr = np.array([1, 2, 3, 4, 5])\n",
    "\n",
    "print(random.permutation(arr))#The permutation() method returns a re-arranged array (and leaves the original array un-changed)."
   ]
  },
  {
   "cell_type": "code",
   "execution_count": 25,
   "id": "d1778f0f-6fee-43ad-b182-b1295e4509e7",
   "metadata": {},
   "outputs": [],
   "source": [
    "#Visualize Distributions With Seaborn\n",
    "#Seaborn is a library that uses Matplotlib underneath to plot graphs. It will be used to visualize random distributions.\n",
    "#install Seaborn.\n",
    "#If you have Python and PIP already installed on a system, install it using this command:\n",
    "#C:\\Users\\Your Name>pip install seaborn\n",
    "#If you use Jupyter, install Seaborn using this command:\n",
    "#C:\\Users\\Your Name>!pip install seaborn\n",
    "#Distplots\n",
    "#Distplot stands for distribution plot, it takes as input an array and plots a curve corresponding to the distribution of points in the array.\n",
    "#Import Matplotlib\n",
    "#Import the pyplot object of the Matplotlib module in your code using the following statement:\n",
    "#import matplotlib.pyplot as plt\n"
   ]
  },
  {
   "cell_type": "code",
   "execution_count": 28,
   "id": "c1bd5a1b-e21e-4fde-a027-4db6858aac50",
   "metadata": {},
   "outputs": [
    {
     "name": "stdout",
     "output_type": "stream",
     "text": [
      "Requirement already satisfied: seaborn in c:\\users\\admin\\anaconda3\\lib\\site-packages (0.12.2)\n",
      "Requirement already satisfied: numpy!=1.24.0,>=1.17 in c:\\users\\admin\\anaconda3\\lib\\site-packages (from seaborn) (1.26.4)\n",
      "Requirement already satisfied: pandas>=0.25 in c:\\users\\admin\\anaconda3\\lib\\site-packages (from seaborn) (2.1.4)\n",
      "Requirement already satisfied: matplotlib!=3.6.1,>=3.1 in c:\\users\\admin\\anaconda3\\lib\\site-packages (from seaborn) (3.8.0)\n",
      "Requirement already satisfied: contourpy>=1.0.1 in c:\\users\\admin\\anaconda3\\lib\\site-packages (from matplotlib!=3.6.1,>=3.1->seaborn) (1.2.0)\n",
      "Requirement already satisfied: cycler>=0.10 in c:\\users\\admin\\anaconda3\\lib\\site-packages (from matplotlib!=3.6.1,>=3.1->seaborn) (0.11.0)\n",
      "Requirement already satisfied: fonttools>=4.22.0 in c:\\users\\admin\\anaconda3\\lib\\site-packages (from matplotlib!=3.6.1,>=3.1->seaborn) (4.25.0)\n",
      "Requirement already satisfied: kiwisolver>=1.0.1 in c:\\users\\admin\\anaconda3\\lib\\site-packages (from matplotlib!=3.6.1,>=3.1->seaborn) (1.4.4)\n",
      "Requirement already satisfied: packaging>=20.0 in c:\\users\\admin\\anaconda3\\lib\\site-packages (from matplotlib!=3.6.1,>=3.1->seaborn) (23.1)\n",
      "Requirement already satisfied: pillow>=6.2.0 in c:\\users\\admin\\anaconda3\\lib\\site-packages (from matplotlib!=3.6.1,>=3.1->seaborn) (10.2.0)\n",
      "Requirement already satisfied: pyparsing>=2.3.1 in c:\\users\\admin\\anaconda3\\lib\\site-packages (from matplotlib!=3.6.1,>=3.1->seaborn) (3.0.9)\n",
      "Requirement already satisfied: python-dateutil>=2.7 in c:\\users\\admin\\anaconda3\\lib\\site-packages (from matplotlib!=3.6.1,>=3.1->seaborn) (2.8.2)\n",
      "Requirement already satisfied: pytz>=2020.1 in c:\\users\\admin\\anaconda3\\lib\\site-packages (from pandas>=0.25->seaborn) (2023.3.post1)\n",
      "Requirement already satisfied: tzdata>=2022.1 in c:\\users\\admin\\anaconda3\\lib\\site-packages (from pandas>=0.25->seaborn) (2023.3)\n",
      "Requirement already satisfied: six>=1.5 in c:\\users\\admin\\anaconda3\\lib\\site-packages (from python-dateutil>=2.7->matplotlib!=3.6.1,>=3.1->seaborn) (1.16.0)\n"
     ]
    },
    {
     "name": "stderr",
     "output_type": "stream",
     "text": [
      "C:\\Users\\Admin\\AppData\\Local\\Temp\\ipykernel_16456\\3171419721.py:5: UserWarning: \n",
      "\n",
      "`distplot` is a deprecated function and will be removed in seaborn v0.14.0.\n",
      "\n",
      "Please adapt your code to use either `displot` (a figure-level function with\n",
      "similar flexibility) or `histplot` (an axes-level function for histograms).\n",
      "\n",
      "For a guide to updating your code to use the new functions, please see\n",
      "https://gist.github.com/mwaskom/de44147ed2974457ad6372750bbe5751\n",
      "\n",
      "  sns.distplot([0, 1, 2, 3, 4, 5])\n",
      "C:\\Users\\Admin\\anaconda3\\Lib\\site-packages\\seaborn\\_oldcore.py:1119: FutureWarning: use_inf_as_na option is deprecated and will be removed in a future version. Convert inf values to NaN before operating instead.\n",
      "  with pd.option_context('mode.use_inf_as_na', True):\n"
     ]
    },
    {
     "data": {
      "image/png": "[encoded data removed]",
      "text/plain": [
       "<Figure size 640x480 with 1 Axes>"
      ]
     },
     "metadata": {},
     "output_type": "display_data"
    }
   ],
   "source": [
    "!pip install seaborn\n",
    "import matplotlib.pyplot as plt\n",
    "import seaborn as sns\n",
    "\n",
    "sns.distplot([0, 1, 2, 3, 4, 5])\n",
    "\n",
    "plt.show()"
   ]
  },
  {
   "cell_type": "code",
   "execution_count": 29,
   "id": "a3cea95e-02ea-4e95-add8-f06b2199ba2f",
   "metadata": {},
   "outputs": [
    {
     "name": "stderr",
     "output_type": "stream",
     "text": [
      "C:\\Users\\Admin\\AppData\\Local\\Temp\\ipykernel_16456\\2406393504.py:4: UserWarning: \n",
      "\n",
      "`distplot` is a deprecated function and will be removed in seaborn v0.14.0.\n",
      "\n",
      "Please adapt your code to use either `displot` (a figure-level function with\n",
      "similar flexibility) or `kdeplot` (an axes-level function for kernel density plots).\n",
      "\n",
      "For a guide to updating your code to use the new functions, please see\n",
      "https://gist.github.com/mwaskom/de44147ed2974457ad6372750bbe5751\n",
      "\n",
      "  sns.distplot([0, 1, 2, 3, 4, 5], hist=False)\n",
      "C:\\Users\\Admin\\anaconda3\\Lib\\site-packages\\seaborn\\_oldcore.py:1119: FutureWarning: use_inf_as_na option is deprecated and will be removed in a future version. Convert inf values to NaN before operating instead.\n",
      "  with pd.option_context('mode.use_inf_as_na', True):\n"
     ]
    },
    {
     "data": {
      "image/png": "[encoded data removed]",
      "text/plain": [
       "<Figure size 640x480 with 1 Axes>"
      ]
     },
     "metadata": {},
     "output_type": "display_data"
    }
   ],
   "source": [
    "import matplotlib.pyplot as plt\n",
    "import seaborn as sns\n",
    "\n",
    "sns.distplot([0, 1, 2, 3, 4, 5], hist=False)\n",
    "\n",
    "plt.show()"
   ]
  },
  {
   "cell_type": "code",
   "execution_count": 30,
   "id": "cd574c2a-093b-4e77-84ef-1c855305fecd",
   "metadata": {},
   "outputs": [
    {
     "name": "stdout",
     "output_type": "stream",
     "text": [
      "[[-0.90135715  0.69978827 -1.21835565]\n",
      " [-2.74784065 -0.53962779  0.79395062]]\n"
     ]
    }
   ],
   "source": [
    "#Normal Distribution\n",
    "#The Normal Distribution is one of the most important distributions.\n",
    "#It is also called the Gaussian Distribution after the German mathematician Carl Friedrich Gauss.\n",
    "#It fits the probability distribution of many events, eg. IQ Scores, Heartbeat etc.\n",
    "#Use the random.normal() method to get a Normal Data Distribution.\n",
    "#It has three parameters:\n",
    "#loc - (Mean) where the peak of the bell exists.\n",
    "#scale - (Standard Deviation) how flat the graph distribution should be.\n",
    "#size - The shape of the returned array.\\\n",
    "from numpy import random\n",
    "\n",
    "x = random.normal(size=(2, 3))\n",
    "\n",
    "print(x)\n"
   ]
  },
  {
   "cell_type": "code",
   "execution_count": 31,
   "id": "fb3152de-71fc-43b4-a4e4-c4a6566263e3",
   "metadata": {},
   "outputs": [
    {
     "name": "stdout",
     "output_type": "stream",
     "text": [
      "[[ 3.05858771  1.51694745 -0.74469597]\n",
      " [-0.39532456  0.29953531  1.56793072]]\n"
     ]
    }
   ],
   "source": [
    "from numpy import random\n",
    "\n",
    "x = random.normal(loc=1, scale=2, size=(2, 3))\n",
    "\n",
    "print(x)"
   ]
  },
  {
   "cell_type": "code",
   "execution_count": 32,
   "id": "5366b109-b588-46e5-bf8d-9e3b2ea75076",
   "metadata": {},
   "outputs": [
    {
     "name": "stderr",
     "output_type": "stream",
     "text": [
      "C:\\Users\\Admin\\AppData\\Local\\Temp\\ipykernel_16456\\2253916830.py:5: UserWarning: \n",
      "\n",
      "`distplot` is a deprecated function and will be removed in seaborn v0.14.0.\n",
      "\n",
      "Please adapt your code to use either `displot` (a figure-level function with\n",
      "similar flexibility) or `kdeplot` (an axes-level function for kernel density plots).\n",
      "\n",
      "For a guide to updating your code to use the new functions, please see\n",
      "https://gist.github.com/mwaskom/de44147ed2974457ad6372750bbe5751\n",
      "\n",
      "  sns.distplot(random.normal(size=1000), hist=False)\n",
      "C:\\Users\\Admin\\anaconda3\\Lib\\site-packages\\seaborn\\_oldcore.py:1119: FutureWarning: use_inf_as_na option is deprecated and will be removed in a future version. Convert inf values to NaN before operating instead.\n",
      "  with pd.option_context('mode.use_inf_as_na', True):\n"
     ]
    },
    {
     "data": {
      "image/png": "[encoded data removed]",
      "text/plain": [
       "<Figure size 640x480 with 1 Axes>"
      ]
     },
     "metadata": {},
     "output_type": "display_data"
    }
   ],
   "source": [
    "from numpy import random\n",
    "import matplotlib.pyplot as plt\n",
    "import seaborn as sns\n",
    "\n",
    "sns.distplot(random.normal(size=1000), hist=False)\n",
    "\n",
    "plt.show()"
   ]
  },
  {
   "cell_type": "code",
   "execution_count": 33,
   "id": "86e2379f-8df5-4083-9e5a-73f91dad2df6",
   "metadata": {},
   "outputs": [
    {
     "name": "stdout",
     "output_type": "stream",
     "text": [
      "[5 2 4 6 6 5 4 4 5 9]\n"
     ]
    }
   ],
   "source": [
    "from numpy import random\n",
    "\n",
    "x = random.binomial(n=10, p=0.5, size=10)\n",
    "\n",
    "print(x)"
   ]
  },
  {
   "cell_type": "code",
   "execution_count": 34,
   "id": "b3147bd3-e5c6-43f3-85ac-b6d0f6e1bd28",
   "metadata": {},
   "outputs": [
    {
     "name": "stderr",
     "output_type": "stream",
     "text": [
      "C:\\Users\\Admin\\AppData\\Local\\Temp\\ipykernel_16456\\1627534489.py:5: UserWarning: \n",
      "\n",
      "`distplot` is a deprecated function and will be removed in seaborn v0.14.0.\n",
      "\n",
      "Please adapt your code to use either `displot` (a figure-level function with\n",
      "similar flexibility) or `histplot` (an axes-level function for histograms).\n",
      "\n",
      "For a guide to updating your code to use the new functions, please see\n",
      "https://gist.github.com/mwaskom/de44147ed2974457ad6372750bbe5751\n",
      "\n",
      "  sns.distplot(random.binomial(n=10, p=0.5, size=1000), hist=True, kde=False)\n"
     ]
    },
    {
     "data": {
      "image/png": "[encoded data removed]",
      "text/plain": [
       "<Figure size 640x480 with 1 Axes>"
      ]
     },
     "metadata": {},
     "output_type": "display_data"
    }
   ],
   "source": [
    "from numpy import random\n",
    "import matplotlib.pyplot as plt\n",
    "import seaborn as sns\n",
    "\n",
    "sns.distplot(random.binomial(n=10, p=0.5, size=1000), hist=True, kde=False)\n",
    "\n",
    "plt.show()"
   ]
  },
  {
   "cell_type": "code",
   "execution_count": 35,
   "id": "c8d88623-dfdb-470b-8cac-ad9ad46acba9",
   "metadata": {},
   "outputs": [
    {
     "name": "stderr",
     "output_type": "stream",
     "text": [
      "C:\\Users\\Admin\\AppData\\Local\\Temp\\ipykernel_16456\\3842674151.py:5: UserWarning: \n",
      "\n",
      "`distplot` is a deprecated function and will be removed in seaborn v0.14.0.\n",
      "\n",
      "Please adapt your code to use either `displot` (a figure-level function with\n",
      "similar flexibility) or `kdeplot` (an axes-level function for kernel density plots).\n",
      "\n",
      "For a guide to updating your code to use the new functions, please see\n",
      "https://gist.github.com/mwaskom/de44147ed2974457ad6372750bbe5751\n",
      "\n",
      "  sns.distplot(random.normal(loc=50, scale=5, size=1000), hist=False, label='normal')\n",
      "C:\\Users\\Admin\\anaconda3\\Lib\\site-packages\\seaborn\\_oldcore.py:1119: FutureWarning: use_inf_as_na option is deprecated and will be removed in a future version. Convert inf values to NaN before operating instead.\n",
      "  with pd.option_context('mode.use_inf_as_na', True):\n",
      "C:\\Users\\Admin\\AppData\\Local\\Temp\\ipykernel_16456\\3842674151.py:6: UserWarning: \n",
      "\n",
      "`distplot` is a deprecated function and will be removed in seaborn v0.14.0.\n",
      "\n",
      "Please adapt your code to use either `displot` (a figure-level function with\n",
      "similar flexibility) or `kdeplot` (an axes-level function for kernel density plots).\n",
      "\n",
      "For a guide to updating your code to use the new functions, please see\n",
      "https://gist.github.com/mwaskom/de44147ed2974457ad6372750bbe5751\n",
      "\n",
      "  sns.distplot(random.binomial(n=100, p=0.5, size=1000), hist=False, label='binomial')\n",
      "C:\\Users\\Admin\\anaconda3\\Lib\\site-packages\\seaborn\\_oldcore.py:1119: FutureWarning: use_inf_as_na option is deprecated and will be removed in a future version. Convert inf values to NaN before operating instead.\n",
      "  with pd.option_context('mode.use_inf_as_na', True):\n"
     ]
    },
    {
     "data": {
      "image/png": "[encoded data removed]",
      "text/plain": [
       "<Figure size 640x480 with 1 Axes>"
      ]
     },
     "metadata": {},
     "output_type": "display_data"
    }
   ],
   "source": [
    "from numpy import random\n",
    "import matplotlib.pyplot as plt\n",
    "import seaborn as sns\n",
    "\n",
    "sns.distplot(random.normal(loc=50, scale=5, size=1000), hist=False, label='normal')\n",
    "sns.distplot(random.binomial(n=100, p=0.5, size=1000), hist=False, label='binomial')\n",
    "\n",
    "plt.show()"
   ]
  },
  {
   "cell_type": "code",
   "execution_count": 36,
   "id": "68c6f230-efab-41a8-a1fd-989be4ab9791",
   "metadata": {},
   "outputs": [
    {
     "name": "stdout",
     "output_type": "stream",
     "text": [
      "[2 1 2 2 1 3 1 3 0 2]\n"
     ]
    }
   ],
   "source": [
    "from numpy import random\n",
    "\n",
    "x = random.poisson(lam=2, size=10)\n",
    "\n",
    "print(x)\n"
   ]
  },
  {
   "cell_type": "code",
   "execution_count": 38,
   "id": "42293d61-e735-4362-8da5-091930dfab49",
   "metadata": {},
   "outputs": [
    {
     "name": "stderr",
     "output_type": "stream",
     "text": [
      "C:\\Users\\Admin\\AppData\\Local\\Temp\\ipykernel_16456\\1134702419.py:5: UserWarning: \n",
      "\n",
      "`distplot` is a deprecated function and will be removed in seaborn v0.14.0.\n",
      "\n",
      "Please adapt your code to use either `displot` (a figure-level function with\n",
      "similar flexibility) or `histplot` (an axes-level function for histograms).\n",
      "\n",
      "For a guide to updating your code to use the new functions, please see\n",
      "https://gist.github.com/mwaskom/de44147ed2974457ad6372750bbe5751\n",
      "\n",
      "  sns.distplot(random.poisson(lam=2, size=1000), kde=False)\n"
     ]
    },
    {
     "data": {
      "image/png": "[encoded data removed]",
      "text/plain": [
       "<Figure size 640x480 with 1 Axes>"
      ]
     },
     "metadata": {},
     "output_type": "display_data"
    }
   ],
   "source": [
    "from numpy import random\n",
    "import matplotlib.pyplot as plt\n",
    "import seaborn as sns\n",
    "\n",
    "sns.distplot(random.poisson(lam=2, size=1000), kde=False)\n",
    "\n",
    "plt.show()"
   ]
  },
  {
   "cell_type": "code",
   "execution_count": 39,
   "id": "b33299bc-729e-4caf-9bdf-fb1eeecf969d",
   "metadata": {},
   "outputs": [
    {
     "name": "stdout",
     "output_type": "stream",
     "text": [
      "[3.91182950e-01 5.85916333e-01 2.53275491e-01 6.82560649e-01\n",
      " 9.56078063e-02 1.27348030e-01 2.90805259e-01 5.79852722e-01\n",
      " 8.91381596e-02 1.55902579e-01 9.82851592e-01 8.63313397e-01\n",
      " 2.13741579e-01 8.80977047e-01 2.72880884e-01 6.60942301e-01\n",
      " 2.31086562e-01 8.10909308e-01 1.43949523e-01 7.70464111e-01\n",
      " 5.51544940e-02 6.77037410e-01 1.16447784e-01 9.76991347e-01\n",
      " 6.91899047e-02 1.33828788e-01 4.41039993e-01 5.01428176e-01\n",
      " 2.35038472e-01 6.71076721e-02 6.14728525e-02 9.50845969e-01\n",
      " 2.31045938e-01 7.39537186e-02 6.41355288e-01 4.13639394e-01\n",
      " 5.22974381e-01 5.85798289e-01 8.04202791e-01 4.39125245e-01\n",
      " 2.45641003e-01 9.78365018e-01 8.90913442e-01 4.97888339e-01\n",
      " 9.72387854e-01 6.65711425e-01 3.07521035e-01 4.15914271e-02\n",
      " 9.29829505e-01 8.28251132e-01 1.73496308e-01 1.99549335e-01\n",
      " 6.62217226e-01 9.58767127e-01 4.59396378e-01 7.89347599e-01\n",
      " 1.71274172e-01 1.34086054e-03 1.10789594e-02 9.94592331e-02\n",
      " 6.89878050e-02 1.04172323e-01 7.34689668e-01 9.86459681e-01\n",
      " 1.90466416e-01 4.43070099e-01 3.57972306e-01 4.85753775e-01\n",
      " 9.77495439e-01 8.45065139e-01 3.64675912e-01 4.33611853e-01\n",
      " 6.34687462e-01 2.96710484e-01 4.44565522e-01 6.81568209e-01\n",
      " 7.67479167e-01 5.68301656e-01 1.20886291e-01 9.95836538e-01\n",
      " 8.18940593e-01 5.40695764e-01 2.95241185e-01 8.24166569e-01\n",
      " 8.94657922e-01 8.61714305e-01 9.35087023e-01 7.10560539e-02\n",
      " 4.53483093e-01 1.51728298e-01 5.02401953e-02 1.78668275e-01\n",
      " 7.32555036e-03 3.64128252e-01 8.95136104e-01 4.06811779e-01\n",
      " 6.49754347e-01 7.49416915e-01 6.63530419e-01 2.84890722e-01\n",
      " 1.42453282e-01 9.46804612e-01 5.10512734e-02 6.94552436e-01\n",
      " 7.82925533e-01 8.47073175e-01 4.69976957e-01 3.21254227e-01\n",
      " 3.10285193e-01 1.05159276e-02 5.81350606e-01 7.74647198e-01\n",
      " 8.20946081e-01 8.55811553e-01 3.29733819e-02 1.43366058e-01\n",
      " 2.42822285e-01 8.64744735e-01 9.12049053e-01 9.16725962e-02\n",
      " 8.01587952e-01 6.04917837e-01 2.86705955e-01 7.95509902e-01\n",
      " 7.70222093e-01 2.68931308e-01 3.42151030e-01 6.72805188e-01\n",
      " 9.26754320e-01 1.75911379e-01 4.77357367e-01 4.17468763e-01\n",
      " 9.15104503e-01 9.77172523e-01 8.83170397e-01 2.30687163e-01\n",
      " 1.94583680e-01 1.59056730e-02 9.69258249e-02 9.35017865e-01\n",
      " 2.75478438e-01 2.67722556e-01 7.93228731e-01 3.33857613e-01\n",
      " 5.41949640e-01 3.14625706e-01 2.78839820e-01 4.74456459e-01\n",
      " 4.59953363e-01 8.32696759e-01 3.99764450e-01 8.12561482e-01\n",
      " 1.08157698e-01 6.42584606e-01 9.98638350e-01 3.10274254e-01\n",
      " 8.22518539e-01 8.28269536e-01 7.86020624e-01 7.34233355e-01\n",
      " 8.31452518e-01 7.02985624e-01 3.41422708e-01 9.50084705e-02\n",
      " 1.06367947e-01 4.64365828e-01 7.47890183e-01 1.44727144e-01\n",
      " 9.67473045e-01 3.01476688e-01 2.47198469e-01 1.45080084e-01\n",
      " 9.81653516e-01 7.42604894e-02 5.28636882e-01 1.80877869e-01\n",
      " 4.18366640e-02 3.37569244e-02 1.11584595e-01 8.54407616e-01\n",
      " 8.66810191e-01 9.62779176e-01 1.09853037e-01 7.64012524e-02\n",
      " 8.63350740e-01 1.58836758e-01 5.79530064e-01 8.46516987e-01\n",
      " 1.98858957e-02 1.30554717e-01 7.33978337e-01 6.78563857e-02\n",
      " 9.76117232e-02 3.73681129e-01 2.91765898e-01 2.62957815e-01\n",
      " 4.32685973e-01 5.06277294e-01 8.02081529e-01 4.39066955e-01\n",
      " 5.13957121e-01 7.56309319e-02 9.60836806e-01 9.21752189e-01\n",
      " 1.43485306e-01 8.78835137e-01 6.96116024e-01 3.76558461e-01\n",
      " 5.17920221e-01 7.30315305e-01 9.68708569e-01 4.87083628e-01\n",
      " 8.63199828e-01 9.90313912e-01 5.90531935e-02 3.83329135e-01\n",
      " 1.01328624e-01 4.42450326e-01 6.80678924e-01 3.90855784e-01\n",
      " 9.63794399e-01 6.79689940e-01 4.68844799e-01 9.00205550e-01\n",
      " 9.34765907e-01 8.29582670e-01 6.23838780e-01 8.45886942e-01\n",
      " 8.26779869e-01 3.77292794e-01 4.49798360e-01 2.55611165e-01\n",
      " 8.94933334e-01 1.63047892e-01 7.48799375e-01 5.06825532e-01\n",
      " 9.42385514e-01 9.08565834e-01 9.70391306e-02 7.71431101e-01\n",
      " 5.98748620e-01 8.79913507e-01 6.94808284e-01 2.68798156e-03\n",
      " 3.43090659e-01 5.44884417e-01 7.03142585e-01 3.51060483e-01\n",
      " 8.82207593e-01 2.00579964e-01 1.73902131e-01 8.45615171e-01\n",
      " 9.12620500e-01 6.39732112e-01 9.14640709e-01 5.87199842e-01\n",
      " 1.56296111e-01 1.49702237e-01 4.20470697e-01 5.71133583e-01\n",
      " 8.78383477e-01 1.70341391e-01 3.35502222e-01 7.65789738e-01\n",
      " 6.62241452e-01 8.33137592e-02 7.91714807e-01 4.82894994e-01\n",
      " 1.15949902e-01 1.31866104e-01 8.86509019e-01 5.14074596e-01\n",
      " 7.64019593e-01 6.09399769e-01 1.43762490e-01 1.76752255e-01\n",
      " 2.73961857e-01 3.87427859e-01 8.75083718e-01 5.97592173e-01\n",
      " 1.94483914e-01 6.19238350e-01 9.35784169e-01 1.72223422e-01\n",
      " 7.89807489e-01 2.13835948e-01 8.23743384e-01 3.60911971e-01\n",
      " 6.33446099e-01 7.28150255e-01 5.50167562e-01 9.26070081e-01\n",
      " 3.64317908e-01 1.50645738e-01 7.73216668e-01 3.62738836e-01\n",
      " 6.94261013e-01 2.74580311e-01 1.88058061e-01 6.14743746e-01\n",
      " 6.81450122e-01 9.61385592e-02 2.19500291e-01 6.40263953e-01\n",
      " 4.80605724e-02 9.67930426e-01 2.26407201e-01 7.14064220e-01\n",
      " 2.34233860e-01 7.48500314e-01 2.01899077e-01 2.44935352e-01\n",
      " 5.08853481e-01 8.92603262e-01 1.45880012e-01 6.67952656e-01\n",
      " 5.81397919e-01 2.83381886e-01 6.75408482e-03 6.86667683e-01\n",
      " 5.18482958e-02 4.01729816e-01 5.76319425e-01 6.57115082e-01\n",
      " 6.97744584e-01 6.18094518e-01 6.16090772e-01 9.35198388e-02\n",
      " 1.09088030e-01 8.46708202e-01 6.26272997e-02 3.80517471e-01\n",
      " 2.55533202e-01 6.37372198e-01 5.57818526e-01 5.17959244e-01\n",
      " 2.63035569e-01 2.39029724e-01 9.63394371e-01 2.63483188e-01\n",
      " 9.64266349e-01 1.76051525e-01 1.30272801e-01 5.48324237e-01\n",
      " 1.75076861e-01 3.37968223e-01 6.26222491e-01 2.52211981e-01\n",
      " 5.78555421e-01 6.64147797e-02 1.14360564e-01 4.60659185e-01\n",
      " 4.31115038e-01 9.47714659e-01 7.98105527e-01 7.61641353e-01\n",
      " 1.76159141e-01 4.25086503e-01 9.72091085e-01 5.89587402e-01\n",
      " 6.84802547e-01 3.66818323e-01 5.46778604e-02 5.32890071e-01\n",
      " 2.31868639e-01 9.83808723e-01 7.79022496e-01 6.21045975e-01\n",
      " 3.56308219e-01 2.49582846e-01 6.96937357e-01 1.34867178e-01\n",
      " 2.18560763e-01 3.42107978e-01 8.85581954e-01 4.53614035e-02\n",
      " 6.76724979e-01 6.30608962e-01 2.34148195e-01 1.63824011e-02\n",
      " 6.81975851e-01 9.49425724e-01 7.33029422e-01 3.51210993e-01\n",
      " 6.03735512e-02 1.53685951e-01 1.50522461e-01 8.49223562e-01\n",
      " 9.51321873e-01 9.29026433e-01 9.11753817e-02 8.07201569e-01\n",
      " 8.39265163e-01 1.37596401e-01 6.66658550e-01 7.10830181e-01\n",
      " 9.01413598e-01 5.89476888e-01 2.86372196e-01 5.29691207e-01\n",
      " 2.48965799e-01 2.43362962e-01 4.30649106e-01 4.72409477e-01\n",
      " 9.68601496e-01 3.67847311e-01 7.36633115e-01 1.13004720e-01\n",
      " 6.55644100e-02 7.00596401e-01 9.47513369e-01 5.72430161e-01\n",
      " 1.37150057e-01 1.92222751e-01 6.65925543e-01 4.20428760e-02\n",
      " 5.41063517e-01 7.53352706e-01 3.45104205e-01 5.91409636e-01\n",
      " 8.64344985e-01 2.14087999e-01 9.18903596e-01 3.21769875e-01\n",
      " 6.98817434e-01 5.78723462e-01 9.58528936e-01 6.40748003e-01\n",
      " 4.30809811e-01 7.89508402e-01 8.94570169e-01 1.77363607e-01\n",
      " 3.19133087e-01 9.88181401e-01 4.77658657e-01 7.64571308e-01\n",
      " 7.24618650e-01 9.39466412e-01 5.51519530e-01 2.37087652e-01\n",
      " 3.28981478e-01 4.23989055e-02 2.64665346e-01 5.39491406e-01\n",
      " 3.99003226e-03 9.24226201e-01 4.18090492e-01 6.94374941e-01\n",
      " 8.32735329e-01 6.63343119e-01 7.75300157e-01 2.46960697e-01\n",
      " 6.60554076e-01 3.18628406e-01 9.22571820e-02 7.72213101e-02\n",
      " 7.69822818e-01 2.49404759e-01 9.41131043e-01 6.50325786e-01\n",
      " 3.08575377e-03 4.00389975e-01 4.47495589e-01 5.12612376e-01\n",
      " 5.83922194e-01 6.22333410e-01 4.58290495e-01 2.17390052e-01\n",
      " 1.87666936e-01 8.92707905e-01 6.49441995e-01 2.32531273e-01\n",
      " 2.19088287e-01 6.95664474e-01 3.61090974e-01 1.40610605e-01\n",
      " 5.62249483e-01 8.95976201e-01 2.35096730e-01 8.77225990e-01\n",
      " 9.96717059e-01 5.12023456e-01 4.33766401e-01 8.11054244e-01\n",
      " 7.77254185e-01 9.89111204e-01 1.35106623e-01 6.83648718e-01\n",
      " 7.45305566e-01 7.86373200e-01 6.61101135e-01 7.52614401e-01\n",
      " 1.74114929e-01 6.97962788e-01 3.57222996e-01 2.36913211e-01\n",
      " 1.52130387e-01 6.16184904e-01 1.67554907e-01 7.92256724e-01\n",
      " 2.31161244e-01 7.69985988e-01 7.88957505e-01 2.48518354e-01\n",
      " 2.29872845e-01 8.20765888e-01 4.81463658e-01 8.40601427e-01\n",
      " 9.50437759e-01 7.88014146e-01 8.93214482e-01 8.24169711e-01\n",
      " 5.37902396e-01 1.39837464e-01 7.97276878e-01 8.33090575e-01\n",
      " 4.90081600e-02 1.47085012e-01 1.41500625e-01 8.50980518e-01\n",
      " 5.31866352e-01 4.01646266e-01 6.86848046e-01 3.63027549e-01\n",
      " 6.73063035e-01 8.04633208e-01 3.87538055e-01 3.91047247e-01\n",
      " 4.07442310e-01 6.44645443e-01 2.63281597e-01 6.17086424e-01\n",
      " 2.55712135e-01 9.56373236e-01 6.70440624e-01 7.98833598e-01\n",
      " 8.39546496e-01 7.08785403e-01 3.07595877e-01 9.80406396e-01\n",
      " 3.66565971e-01 4.47123409e-01 4.74521315e-01 2.16776072e-01\n",
      " 5.85880749e-01 5.27626862e-01 4.86407962e-01 8.95803478e-01\n",
      " 8.42611940e-01 4.39335747e-01 6.08502817e-01 4.50444596e-01\n",
      " 5.51541461e-01 7.52568980e-01 4.01417422e-01 1.57030125e-01\n",
      " 6.40340131e-01 7.74127515e-02 2.48173172e-01 8.57025753e-01\n",
      " 8.75610661e-01 2.84293955e-01 2.55941051e-01 6.48510600e-01\n",
      " 8.74910427e-02 3.37128468e-01 6.62265668e-01 4.94611786e-01\n",
      " 6.48761691e-01 7.92097326e-01 1.57199301e-01 5.60379816e-01\n",
      " 5.70285907e-01 3.83395576e-02 4.47888330e-01 3.70623294e-01\n",
      " 6.11786544e-01 2.07939281e-01 7.72475428e-01 8.49932403e-02\n",
      " 6.22641933e-01 3.70067785e-01 4.75155886e-01 4.36671904e-01\n",
      " 2.77918097e-01 4.26352964e-01 2.90164917e-01 2.41772420e-01\n",
      " 4.10331609e-01 4.06460568e-01 6.14159016e-01 3.74639855e-01\n",
      " 1.78616376e-01 2.32748094e-01 5.85450032e-01 8.23349680e-01\n",
      " 5.55041654e-01 6.78473248e-01 3.57667322e-01 2.91981391e-01\n",
      " 1.78031489e-01 1.48202616e-01 4.98214314e-01 8.22681925e-01\n",
      " 2.30666139e-01 9.14247594e-01 6.27447717e-01 7.15147303e-02\n",
      " 5.82266649e-01 3.09317683e-03 7.23399627e-01 5.89480159e-01\n",
      " 7.18233225e-02 5.23092083e-01 6.96862717e-01 2.35088835e-01\n",
      " 6.68328771e-01 9.09317065e-01 4.14778828e-01 1.16627550e-01\n",
      " 5.88723295e-01 9.85596003e-01 7.73293193e-01 6.73880927e-01\n",
      " 7.52465060e-01 3.11750344e-01 1.99720439e-01 1.85479503e-01\n",
      " 8.96061317e-01 7.57227212e-02 1.11457978e-01 7.68062159e-01\n",
      " 4.89077384e-01 3.21179336e-01 3.29920698e-01 8.34109040e-02\n",
      " 8.30259573e-01 6.27209652e-01 6.77435127e-01 6.81922199e-01\n",
      " 8.18292414e-01 4.75591125e-01 1.88688751e-02 9.57364524e-01\n",
      " 3.49441538e-01 9.84137493e-01 4.33657702e-01 3.22133362e-01\n",
      " 9.17105329e-01 9.56377761e-01 6.02681351e-01 8.46392591e-01\n",
      " 6.49513563e-01 3.87262775e-01 4.12133745e-01 3.57835831e-01\n",
      " 1.98806192e-01 4.10332722e-01 5.18128955e-01 4.11340261e-01\n",
      " 9.71570187e-01 2.36904549e-01 3.15887652e-02 3.39026900e-01\n",
      " 7.25155378e-01 1.15463218e-01 2.56277184e-01 4.90038432e-01\n",
      " 1.44405027e-01 9.71513774e-02 7.46974452e-01 2.37024431e-01\n",
      " 8.03589017e-01 8.22373619e-01 2.23347765e-01 7.30601377e-01\n",
      " 6.81215628e-01 4.88138270e-01 7.78507744e-01 7.19958323e-01\n",
      " 2.97924423e-01 7.54200125e-01 4.34200598e-02 7.27699345e-01\n",
      " 1.13726563e-01 2.16299514e-01 2.75463542e-01 6.69549873e-01\n",
      " 9.82785512e-01 3.18565442e-01 7.74540974e-01 3.57815595e-01\n",
      " 3.82854633e-01 9.38880666e-01 4.47656085e-01 2.37820388e-01\n",
      " 1.11235978e-01 6.05480541e-01 7.13025500e-02 6.18105690e-01\n",
      " 6.22082774e-01 5.91889132e-01 5.81577167e-01 2.44154595e-01\n",
      " 8.76838168e-01 6.92784008e-01 9.95621641e-01 2.20973552e-01\n",
      " 5.12496824e-01 3.03595700e-02 1.53630742e-01 7.09640437e-01\n",
      " 3.48368357e-01 6.56487388e-01 3.46446841e-01 9.01681066e-01\n",
      " 9.01357839e-01 5.78095082e-01 7.42895355e-01 9.90241284e-01\n",
      " 2.33626559e-01 3.72256551e-01 9.66244870e-01 5.43843609e-01\n",
      " 3.70774377e-01 2.93118247e-01 9.77669106e-01 7.19970690e-01\n",
      " 6.20726783e-01 7.06345041e-01 5.53477920e-01 1.91964860e-01\n",
      " 6.90317439e-01 3.85592497e-01 8.89445122e-01 6.15083270e-01\n",
      " 6.43273965e-01 1.27978903e-01 1.09680807e-01 9.49520202e-01\n",
      " 9.20656489e-01 6.18282500e-01 6.31852163e-01 8.89585055e-01\n",
      " 7.90481588e-01 4.67079875e-01 6.95525043e-01 4.26383981e-01\n",
      " 8.03386132e-04 1.74640062e-01 1.96852018e-01 6.03914704e-01\n",
      " 6.56900298e-01 4.52219214e-02 4.14324484e-01 4.35432288e-01\n",
      " 3.99222916e-01 6.35228225e-01 2.70440455e-01 2.17484531e-01\n",
      " 5.45446805e-01 8.13887038e-01 3.79320134e-02 2.95170749e-01\n",
      " 6.05705027e-02 1.89495540e-01 3.33239199e-01 4.83295704e-01\n",
      " 6.00678757e-01 9.95442418e-01 4.23790129e-01 5.76208304e-01\n",
      " 2.77786979e-01 9.40078078e-01 8.37844267e-01 6.26845287e-01\n",
      " 1.93570571e-01 6.57205877e-01 9.45098436e-01 1.09803273e-01\n",
      " 5.02266851e-02 5.04067925e-01 9.01205175e-01 9.02062912e-01\n",
      " 8.73501317e-01 8.38649734e-01 4.15761062e-02 5.28425710e-01\n",
      " 8.49601107e-01 1.34195924e-01 5.93826150e-01 9.00302200e-01\n",
      " 4.76511470e-01 4.64356585e-01 7.06407690e-01 8.47942655e-01\n",
      " 8.26947294e-01 2.16078652e-02 3.93428196e-01 8.12041293e-01\n",
      " 5.57406866e-01 9.19709814e-01 8.88081516e-01 6.04397540e-01\n",
      " 5.45663210e-01 1.83365852e-01 7.25064490e-02 1.83833780e-01\n",
      " 4.01359217e-01 3.82470672e-02 3.15286786e-01 4.08050468e-01\n",
      " 6.06853958e-01 2.56415219e-01 1.54251634e-01 1.51847725e-01\n",
      " 8.39168581e-01 7.55421153e-01 7.17706351e-01 2.75286747e-01\n",
      " 9.54742504e-01 7.87587735e-01 7.41907935e-01 1.37541747e-02\n",
      " 3.52336037e-01 2.42707194e-01 8.11199374e-01 3.67236825e-01\n",
      " 3.29320083e-01 8.98138429e-01 4.59653886e-01 1.60812112e-01\n",
      " 2.54776688e-03 3.47376012e-02 6.00883763e-02 1.42313391e-01\n",
      " 1.08920236e-01 3.70427940e-01 6.70067708e-01 3.76468239e-01\n",
      " 1.15421244e-01 9.52055500e-01 4.66397700e-01 3.35832855e-01\n",
      " 1.62357139e-01 1.83962170e-01 5.66385014e-01 2.89929036e-01\n",
      " 2.66781340e-01 1.21797234e-01 9.62199036e-01 7.64651879e-01\n",
      " 1.63830874e-01 2.15093189e-01 9.93069241e-01 3.26983510e-01\n",
      " 3.84738270e-01 4.18176449e-02 5.29200978e-01 2.80050914e-01\n",
      " 9.98989185e-01 8.84203723e-01 4.55361534e-01 1.16072418e-01\n",
      " 6.35369084e-01 2.40211305e-01 5.62624534e-01 5.18581196e-02\n",
      " 1.85064640e-01 9.51900251e-01 3.52679305e-01 6.71938966e-02\n",
      " 2.00085324e-02 7.01669937e-01 7.05833108e-01 7.93775816e-01\n",
      " 3.05154533e-01 4.20857354e-01 7.69559444e-02 6.49133990e-02\n",
      " 5.22711179e-01 4.04001242e-01 9.36861258e-01 2.07433098e-01\n",
      " 4.90185760e-01 7.24091817e-02 1.85111450e-02 9.57439213e-01\n",
      " 4.40488136e-02 8.43412855e-01 8.44677791e-02 1.53092629e-01\n",
      " 1.12065818e-01 7.45874101e-01 5.79259196e-01 2.35405896e-01\n",
      " 1.15719517e-01 4.34759398e-01 4.85790406e-01 7.96761368e-02\n",
      " 3.18748257e-01 8.21352728e-01 4.84327205e-03 8.99991524e-01\n",
      " 3.15615504e-01 4.54842629e-01 8.39486292e-01 1.58388571e-01\n",
      " 6.85873296e-01 1.62508818e-01 3.97945728e-01 6.79365669e-01\n",
      " 5.27004980e-01 6.32031072e-01 5.39819898e-01 6.07813088e-01\n",
      " 4.04764410e-01 1.09837062e-01 6.02988965e-01 8.06773320e-01\n",
      " 9.44162317e-01 1.10763521e-01 6.48866414e-01 3.43080207e-01\n",
      " 5.47257339e-02 1.34719776e-01 5.46435212e-01 2.64108480e-01\n",
      " 7.16156308e-01 1.16770443e-01 7.26892566e-01 9.48731301e-01\n",
      " 1.80021184e-01 9.77886124e-01 7.17076360e-01 6.83261074e-01\n",
      " 1.62214275e-01 4.44924704e-01 6.47335842e-01 2.88721949e-01\n",
      " 8.03835554e-02 7.16986426e-01 8.25769245e-01 9.48601898e-01\n",
      " 4.97448457e-01 5.95257112e-01 3.51379160e-01 6.68892912e-01\n",
      " 4.28260558e-01 8.16249874e-01 8.31698989e-01 9.63643419e-02\n",
      " 8.31833547e-01 6.39978273e-01 1.46154438e-01 8.31311600e-01\n",
      " 1.70220432e-01 3.39420914e-01 8.51052865e-01 6.56942878e-02\n",
      " 1.69298379e-01 7.20514410e-01 4.83773100e-01 1.79396163e-01\n",
      " 5.34374164e-01 6.56113077e-01 7.72780709e-01 4.95757044e-01\n",
      " 6.42862079e-01 8.69747193e-01 1.33699416e-01 5.71483853e-01\n",
      " 8.36792140e-01 7.27864664e-01 1.25659786e-01 7.35816370e-01\n",
      " 7.14287154e-01 9.75061811e-01 3.85871615e-01 9.51211326e-02\n",
      " 2.29698017e-01 7.49083931e-01 2.29277449e-01 7.75081797e-01\n",
      " 5.31916545e-01 5.86852789e-01 7.31802527e-01 2.98167069e-01\n",
      " 1.33002766e-01 2.71628671e-01 7.55943591e-01 8.44056001e-02\n",
      " 2.69415167e-01 3.20177481e-01 9.04755608e-01 7.98620737e-01\n",
      " 4.37758429e-02 6.77928298e-01 8.58268923e-01 2.29369092e-01]\n"
     ]
    },
    {
     "name": "stderr",
     "output_type": "stream",
     "text": [
      "C:\\Users\\Admin\\AppData\\Local\\Temp\\ipykernel_16456\\2738555068.py:6: UserWarning: \n",
      "\n",
      "`distplot` is a deprecated function and will be removed in seaborn v0.14.0.\n",
      "\n",
      "Please adapt your code to use either `displot` (a figure-level function with\n",
      "similar flexibility) or `kdeplot` (an axes-level function for kernel density plots).\n",
      "\n",
      "For a guide to updating your code to use the new functions, please see\n",
      "https://gist.github.com/mwaskom/de44147ed2974457ad6372750bbe5751\n",
      "\n",
      "  sns.distplot(x, hist=False)\n",
      "C:\\Users\\Admin\\anaconda3\\Lib\\site-packages\\seaborn\\_oldcore.py:1119: FutureWarning: use_inf_as_na option is deprecated and will be removed in a future version. Convert inf values to NaN before operating instead.\n",
      "  with pd.option_context('mode.use_inf_as_na', True):\n"
     ]
    },
    {
     "data": {
      "image/png": "[encoded data removed]",
      "text/plain": [
       "<Figure size 640x480 with 1 Axes>"
      ]
     },
     "metadata": {},
     "output_type": "display_data"
    }
   ],
   "source": [
    "from numpy import random\n",
    "import matplotlib.pyplot as plt\n",
    "import seaborn as sns\n",
    "x=random.uniform(size=(1000))\n",
    "print(x)\n",
    "sns.distplot(x, hist=False)\n",
    "\n",
    "plt.show()"
   ]
  },
  {
   "cell_type": "code",
   "execution_count": 40,
   "id": "1d4f460c-d726-4624-9d7f-971bdcc03250",
   "metadata": {},
   "outputs": [
    {
     "name": "stderr",
     "output_type": "stream",
     "text": [
      "C:\\Users\\Admin\\AppData\\Local\\Temp\\ipykernel_16456\\691754846.py:5: UserWarning: \n",
      "\n",
      "`distplot` is a deprecated function and will be removed in seaborn v0.14.0.\n",
      "\n",
      "Please adapt your code to use either `displot` (a figure-level function with\n",
      "similar flexibility) or `kdeplot` (an axes-level function for kernel density plots).\n",
      "\n",
      "For a guide to updating your code to use the new functions, please see\n",
      "https://gist.github.com/mwaskom/de44147ed2974457ad6372750bbe5751\n",
      "\n",
      "  sns.distplot(x, hist=False)\n",
      "C:\\Users\\Admin\\anaconda3\\Lib\\site-packages\\seaborn\\_oldcore.py:1119: FutureWarning: use_inf_as_na option is deprecated and will be removed in a future version. Convert inf values to NaN before operating instead.\n",
      "  with pd.option_context('mode.use_inf_as_na', True):\n"
     ]
    },
    {
     "data": {
      "image/png": "[encoded data removed]",
      "text/plain": [
       "<Figure size 640x480 with 1 Axes>"
      ]
     },
     "metadata": {},
     "output_type": "display_data"
    }
   ],
   "source": [
    "from numpy import random\n",
    "import matplotlib.pyplot as plt\n",
    "import seaborn as sns\n",
    "x=random.logistic(size=(1000))\n",
    "sns.distplot(x, hist=False)\n",
    "\n",
    "plt.show()"
   ]
  },
  {
   "cell_type": "code",
   "execution_count": 41,
   "id": "c46cc327-1904-4f03-98e8-d8c9aaae772e",
   "metadata": {},
   "outputs": [
    {
     "name": "stdout",
     "output_type": "stream",
     "text": [
      "[3 0 0 2 0 1]\n"
     ]
    }
   ],
   "source": [
    "#Multinomial Distribution\n",
    "#Multinomial distribution is a generalization of binomial distribution.\n",
    "#It describes outcomes of multi-nomial scenarios unlike binomial where scenarios must be only one of two. e.g. Blood type of a population, dice roll outcome.\n",
    "#It has three parameters:\n",
    "#n - number of possible outcomes (e.g. 6 for dice roll).\n",
    "#pvals - list of probabilties of outcomes (e.g. [1/6, 1/6, 1/6, 1/6, 1/6, 1/6] for dice roll).\n",
    "#size - The shape of the returned array.\n",
    "from numpy import random\n",
    "\n",
    "x = random.multinomial(n=6, pvals=[1/6, 1/6, 1/6, 1/6, 1/6, 1/6])\n",
    "\n",
    "print(x)"
   ]
  },
  {
   "cell_type": "code",
   "execution_count": 42,
   "id": "4c4b8f4b-fe10-4d9d-91c1-f82f50d3b4a8",
   "metadata": {},
   "outputs": [
    {
     "name": "stdout",
     "output_type": "stream",
     "text": [
      "[5, 7, 9, 11]\n"
     ]
    }
   ],
   "source": [
    "#What are ufuncs?\n",
    "#ufuncs stands for \"Universal Functions\" and they are NumPy functions that operate on the ndarray object.\n",
    "x = [1, 2, 3, 4]\n",
    "y = [4, 5, 6, 7]\n",
    "z = []\n",
    "\n",
    "for i, j in zip(x, y):\n",
    "  z.append(i + j)\n",
    "print(z)"
   ]
  },
  {
   "cell_type": "code",
   "execution_count": 43,
   "id": "23811872-ee99-4450-b3d4-0e1e32c61912",
   "metadata": {},
   "outputs": [
    {
     "name": "stdout",
     "output_type": "stream",
     "text": [
      "[ 5  7  9 11]\n"
     ]
    }
   ],
   "source": [
    "import numpy as np\n",
    "\n",
    "x = [1, 2, 3, 4]\n",
    "y = [4, 5, 6, 7]\n",
    "z = np.add(x, y)\n",
    "\n",
    "print(z)"
   ]
  },
  {
   "cell_type": "code",
   "execution_count": 44,
   "id": "a486244d-a611-4343-9acf-4651e57201db",
   "metadata": {},
   "outputs": [
    {
     "name": "stdout",
     "output_type": "stream",
     "text": [
      "[6 8 10 12]\n"
     ]
    }
   ],
   "source": [
    "#How To Create Your Own ufunc\n",
    "#To create your own ufunc, you have to define a function, like you do with normal functions in Python, then you add it to your NumPy ufunc library with the frompyfunc() method.\n",
    "#The frompyfunc() method takes the following arguments:\n",
    "#function - the name of the function.\n",
    "#inputs - the number of input arguments (arrays).\n",
    "#outputs - the number of output arrays.\n",
    "import numpy as np\n",
    "\n",
    "def myadd(x, y):\n",
    "  return x+y\n",
    "\n",
    "myadd = np.frompyfunc(myadd, 2, 1)\n",
    "\n",
    "print(myadd([1, 2, 3, 4], [5, 6, 7, 8]))"
   ]
  },
  {
   "cell_type": "code",
   "execution_count": 45,
   "id": "517d3394-7d8a-46f0-b7b2-367baf9c4cd0",
   "metadata": {},
   "outputs": [
    {
     "name": "stdout",
     "output_type": "stream",
     "text": [
      "[30 32 34 36 38 40]\n"
     ]
    }
   ],
   "source": [
    "import numpy as np\n",
    "\n",
    "arr1 = np.array([10, 11, 12, 13, 14, 15])\n",
    "arr2 = np.array([20, 21, 22, 23, 24, 25])\n",
    "\n",
    "newarr = np.add(arr1, arr2)\n",
    "\n",
    "print(newarr)"
   ]
  },
  {
   "cell_type": "code",
   "execution_count": 46,
   "id": "2090f82c-7936-4512-b644-c772c1e053c4",
   "metadata": {},
   "outputs": [
    {
     "name": "stdout",
     "output_type": "stream",
     "text": [
      "[-10  -1   8  17  26  35]\n"
     ]
    }
   ],
   "source": [
    "import numpy as np\n",
    "\n",
    "arr1 = np.array([10, 20, 30, 40, 50, 60])\n",
    "arr2 = np.array([20, 21, 22, 23, 24, 25])\n",
    "\n",
    "newarr = np.subtract(arr1, arr2)\n",
    "\n",
    "print(newarr)"
   ]
  },
  {
   "cell_type": "code",
   "execution_count": 47,
   "id": "1b927845-98ff-4809-9215-74be81819104",
   "metadata": {},
   "outputs": [
    {
     "name": "stdout",
     "output_type": "stream",
     "text": [
      "[ 200  420  660  920 1200 1500]\n"
     ]
    }
   ],
   "source": [
    "import numpy as np\n",
    "\n",
    "arr1 = np.array([10, 20, 30, 40, 50, 60])\n",
    "arr2 = np.array([20, 21, 22, 23, 24, 25])\n",
    "\n",
    "newarr = np.multiply(arr1, arr2)\n",
    "\n",
    "print(newarr)"
   ]
  },
  {
   "cell_type": "code",
   "execution_count": 48,
   "id": "23e26b38-0b58-45e8-b2de-68b2d0a22900",
   "metadata": {},
   "outputs": [
    {
     "name": "stdout",
     "output_type": "stream",
     "text": [
      "[ 3.33333333  4.          3.          5.         25.          1.81818182]\n"
     ]
    }
   ],
   "source": [
    "import numpy as np\n",
    "\n",
    "arr1 = np.array([10, 20, 30, 40, 50, 60])\n",
    "arr2 = np.array([3, 5, 10, 8, 2, 33])\n",
    "\n",
    "newarr = np.divide(arr1, arr2)\n",
    "\n",
    "print(newarr)\n"
   ]
  },
  {
   "cell_type": "code",
   "execution_count": 49,
   "id": "28ee9835-75e2-482d-aa28-80b8cc069ab6",
   "metadata": {},
   "outputs": [
    {
     "name": "stdout",
     "output_type": "stream",
     "text": [
      "[      1000    3200000  729000000 -520093696       2500          0]\n"
     ]
    }
   ],
   "source": [
    "import numpy as np\n",
    "\n",
    "arr1 = np.array([10, 20, 30, 40, 50, 60])\n",
    "arr2 = np.array([3, 5, 6, 8, 2, 33])\n",
    "\n",
    "newarr = np.power(arr1, arr2)\n",
    "\n",
    "print(newarr)"
   ]
  },
  {
   "cell_type": "code",
   "execution_count": 50,
   "id": "c119a060-a1eb-4d0e-ac52-7db9ed988c90",
   "metadata": {},
   "outputs": [
    {
     "name": "stdout",
     "output_type": "stream",
     "text": [
      "[ 1  6  3  0  0 27]\n"
     ]
    }
   ],
   "source": [
    "import numpy as np\n",
    "\n",
    "arr1 = np.array([10, 20, 30, 40, 50, 60])\n",
    "arr2 = np.array([3, 7, 9, 8, 2, 33])\n",
    "\n",
    "newarr = np.mod(arr1, arr2)\n",
    "\n",
    "print(newarr)"
   ]
  },
  {
   "cell_type": "code",
   "execution_count": 52,
   "id": "e31b79f8-0919-4d39-a027-6d12bbbb1a0d",
   "metadata": {},
   "outputs": [
    {
     "name": "stdout",
     "output_type": "stream",
     "text": [
      "(array([ 3,  2,  3,  5, 25,  1]), array([ 1,  6,  3,  0,  0, 27]))\n"
     ]
    }
   ],
   "source": [
    "import numpy as np\n",
    "\n",
    "arr1 = np.array([10, 20, 30, 40, 50, 60])\n",
    "arr2 = np.array([3, 7, 9, 8, 2, 33])\n",
    "\n",
    "newarr = np.divmod(arr1, arr2)#The divmod() function return both the quotient and the the mod. The return value is two arrays, the first array contains the quotient and second array contains the mod.\n",
    "\n",
    "print(newarr)"
   ]
  },
  {
   "cell_type": "code",
   "execution_count": 53,
   "id": "17cda91c-71a9-4669-97e7-bf046467c11d",
   "metadata": {},
   "outputs": [
    {
     "name": "stdout",
     "output_type": "stream",
     "text": [
      "[1 2 1 2 3 4]\n"
     ]
    }
   ],
   "source": [
    "import numpy as np\n",
    "\n",
    "arr = np.array([-1, -2, 1, 2, 3, -4])\n",
    "\n",
    "newarr = np.absolute(arr)\n",
    "\n",
    "print(newarr)"
   ]
  },
  {
   "cell_type": "code",
   "execution_count": 54,
   "id": "bd0db339-9abb-44a4-9581-8913302759d4",
   "metadata": {},
   "outputs": [
    {
     "name": "stdout",
     "output_type": "stream",
     "text": [
      "[-3.  3.]\n"
     ]
    }
   ],
   "source": [
    "import numpy as np\n",
    "\n",
    "arr = np.trunc([-3.1666, 3.6667])\n",
    "\n",
    "print(arr)"
   ]
  },
  {
   "cell_type": "code",
   "execution_count": 55,
   "id": "04a65db1-de5f-4089-8a42-c96c97d45337",
   "metadata": {},
   "outputs": [
    {
     "name": "stdout",
     "output_type": "stream",
     "text": [
      "[-3.  3.]\n"
     ]
    }
   ],
   "source": [
    "import numpy as np\n",
    "\n",
    "arr = np.fix([-3.1666, 3.6667])\n",
    "\n",
    "print(arr)\n"
   ]
  },
  {
   "cell_type": "code",
   "execution_count": 56,
   "id": "d1d19964-6376-431b-b242-bead645bd05b",
   "metadata": {},
   "outputs": [
    {
     "name": "stdout",
     "output_type": "stream",
     "text": [
      "3.17\n"
     ]
    }
   ],
   "source": [
    "import numpy as np\n",
    "\n",
    "arr = np.around(3.1666, 2)#Round off 3.1666 to 2 decimal places:\n",
    "\n",
    "print(arr)"
   ]
  },
  {
   "cell_type": "code",
   "execution_count": 57,
   "id": "9b1a9a37-38ae-4d80-ab86-7a63d2abe327",
   "metadata": {},
   "outputs": [
    {
     "name": "stdout",
     "output_type": "stream",
     "text": [
      "[-4.  3.]\n"
     ]
    }
   ],
   "source": [
    "import numpy as np\n",
    "\n",
    "arr = np.floor([-3.1666, 3.6667])#The floor() function rounds off decimal to nearest lower integer.\n",
    "\n",
    "E.g. floor of 3.166 is 3.\n",
    "\n",
    "print(arr)"
   ]
  },
  {
   "cell_type": "code",
   "execution_count": 59,
   "id": "46cf29d1-8375-4b89-9b75-89779185c15d",
   "metadata": {},
   "outputs": [
    {
     "name": "stdout",
     "output_type": "stream",
     "text": [
      "[-3.  4.]\n"
     ]
    }
   ],
   "source": [
    "import numpy as np\n",
    "\n",
    "arr = np.ceil([-3.1666, 3.6667])#The ceil() function rounds off decimal to nearest upper integer.\n",
    "\n",
    "\n",
    "\n",
    "print(arr)"
   ]
  },
  {
   "cell_type": "code",
   "execution_count": 61,
   "id": "51aea441-35c0-432a-b09d-a27825364c17",
   "metadata": {},
   "outputs": [
    {
     "name": "stdout",
     "output_type": "stream",
     "text": [
      "[1 2 3 4 5 6 7 8 9]\n",
      "[0.         1.         1.5849625  2.         2.32192809 2.5849625\n",
      " 2.80735492 3.         3.169925  ]\n"
     ]
    }
   ],
   "source": [
    "#Find log at base 2 of all elements of following array:\n",
    "\n",
    "import numpy as np\n",
    "\n",
    "arr = np.arange(1, 10)\n",
    "print(arr)\n",
    "print(np.log2(arr))"
   ]
  },
  {
   "cell_type": "code",
   "execution_count": 62,
   "id": "6478b8c9-39eb-47bb-bfe0-4b2d6fbd61a6",
   "metadata": {},
   "outputs": [
    {
     "name": "stdout",
     "output_type": "stream",
     "text": [
      "[0.         0.30103    0.47712125 0.60205999 0.69897    0.77815125\n",
      " 0.84509804 0.90308999 0.95424251]\n"
     ]
    }
   ],
   "source": [
    "import numpy as np\n",
    "\n",
    "arr = np.arange(1, 10)\n",
    "\n",
    "print(np.log10(arr))"
   ]
  },
  {
   "cell_type": "code",
   "execution_count": 63,
   "id": "1e10ee30-b5dc-49c7-ad8c-f9c9c65f1d65",
   "metadata": {},
   "outputs": [
    {
     "name": "stdout",
     "output_type": "stream",
     "text": [
      "[0.         0.69314718 1.09861229 1.38629436 1.60943791 1.79175947\n",
      " 1.94591015 2.07944154 2.19722458]\n"
     ]
    }
   ],
   "source": [
    "import numpy as np\n",
    "\n",
    "arr = np.arange(1, 10)\n",
    "\n",
    "print(np.log(arr))"
   ]
  },
  {
   "cell_type": "code",
   "execution_count": 64,
   "id": "20f4623e-5ff3-412b-88dd-aca3946c39f4",
   "metadata": {},
   "outputs": [
    {
     "name": "stdout",
     "output_type": "stream",
     "text": [
      "12\n"
     ]
    }
   ],
   "source": [
    "import numpy as np\n",
    "\n",
    "arr1 = np.array([1, 2, 3])\n",
    "arr2 = np.array([1, 2, 3])\n",
    "\n",
    "newarr = np.sum([arr1, arr2])\n",
    "\n",
    "print(newarr)"
   ]
  },
  {
   "cell_type": "code",
   "execution_count": 65,
   "id": "57cf91dc-13d4-4907-ae0a-d1faa569e8d5",
   "metadata": {},
   "outputs": [
    {
     "name": "stdout",
     "output_type": "stream",
     "text": [
      "[6 6]\n"
     ]
    }
   ],
   "source": [
    "import numpy as np\n",
    "\n",
    "arr1 = np.array([1, 2, 3])\n",
    "arr2 = np.array([1, 2, 3])\n",
    "\n",
    "newarr = np.sum([arr1, arr2], axis=1)\n",
    "\n",
    "print(newarr)"
   ]
  },
  {
   "cell_type": "code",
   "execution_count": 66,
   "id": "7ac33522-7deb-4b6b-b50f-132e382943a8",
   "metadata": {},
   "outputs": [
    {
     "name": "stdout",
     "output_type": "stream",
     "text": [
      "[1 3 6]\n"
     ]
    }
   ],
   "source": [
    "import numpy as np\n",
    "\n",
    "arr = np.array([1, 2, 3])\n",
    "\n",
    "newarr = np.cumsum(arr)\n",
    "\n",
    "print(newarr)"
   ]
  },
  {
   "cell_type": "code",
   "execution_count": 68,
   "id": "ddf80b6a-9642-4e11-89bc-613aa359d46a",
   "metadata": {},
   "outputs": [
    {
     "name": "stdout",
     "output_type": "stream",
     "text": [
      "24\n"
     ]
    }
   ],
   "source": [
    "import numpy as np\n",
    "\n",
    "arr = np.array([1, 2, 3, 4])\n",
    "\n",
    "x = np.prod(arr)\n",
    "\n",
    "print(x)"
   ]
  },
  {
   "cell_type": "code",
   "execution_count": 70,
   "id": "4478fa80-b916-4ea4-8037-8de002da1d1f",
   "metadata": {},
   "outputs": [
    {
     "name": "stdout",
     "output_type": "stream",
     "text": [
      "40320\n"
     ]
    }
   ],
   "source": [
    "import numpy as np\n",
    "\n",
    "arr1 = np.array([1, 2, 3, 4])\n",
    "arr2 = np.array([5, 6, 7, 8])\n",
    "\n",
    "x = np.prod([arr1, arr2])\n",
    "\n",
    "print(x)"
   ]
  },
  {
   "cell_type": "code",
   "execution_count": 71,
   "id": "fd190a9b-76c3-4409-837a-b509caecab9d",
   "metadata": {},
   "outputs": [
    {
     "name": "stdout",
     "output_type": "stream",
     "text": [
      "[  24 1680]\n"
     ]
    }
   ],
   "source": [
    "import numpy as np\n",
    "\n",
    "arr1 = np.array([1, 2, 3, 4])\n",
    "arr2 = np.array([5, 6, 7, 8])\n",
    "\n",
    "newarr = np.prod([arr1, arr2], axis=1)\n",
    "\n",
    "print(newarr)"
   ]
  },
  {
   "cell_type": "code",
   "execution_count": 72,
   "id": "21df499c-1508-4977-be7b-d6d95fa368d5",
   "metadata": {},
   "outputs": [
    {
     "name": "stdout",
     "output_type": "stream",
     "text": [
      "[   5   30  210 1680]\n"
     ]
    }
   ],
   "source": [
    "import numpy as np\n",
    "\n",
    "arr = np.array([5, 6, 7, 8])\n",
    "\n",
    "newarr = np.cumprod(arr)\n",
    "\n",
    "print(newarr)\n"
   ]
  },
  {
   "cell_type": "code",
   "execution_count": 73,
   "id": "c2847361-7c54-46a1-97f1-270ddb864a3f",
   "metadata": {},
   "outputs": [
    {
     "name": "stdout",
     "output_type": "stream",
     "text": [
      "[  5  10 -20]\n"
     ]
    }
   ],
   "source": [
    "import numpy as np\n",
    "\n",
    "arr = np.array([10, 15, 25, 5])\n",
    "\n",
    "newarr = np.diff(arr)#[5 10 -20] because 15-10=5, 25-15=10, and 5-25=-20\n",
    "\n",
    "print(newarr)"
   ]
  },
  {
   "cell_type": "code",
   "execution_count": 75,
   "id": "2ee2573a-de27-48bc-bf55-045a7ca1a0a2",
   "metadata": {},
   "outputs": [
    {
     "name": "stdout",
     "output_type": "stream",
     "text": [
      "[  5 -30]\n"
     ]
    }
   ],
   "source": [
    "import numpy as np\n",
    "\n",
    "arr = np.array([10, 15, 25, 5])\n",
    "\n",
    "newarr = np.diff(arr, n=2)#[5 -30] because: 15-10=5, 25-15=10, and 5-25=-20 AND 10-5=5 and -20-10=-30\n",
    "\n",
    "print(newarr)"
   ]
  },
  {
   "cell_type": "code",
   "execution_count": 76,
   "id": "cca193e3-8b22-43d3-b0df-6b52dd74bbf5",
   "metadata": {},
   "outputs": [
    {
     "name": "stdout",
     "output_type": "stream",
     "text": [
      "12\n"
     ]
    }
   ],
   "source": [
    "import numpy as np\n",
    "\n",
    "num1 = 4\n",
    "num2 = 6\n",
    "\n",
    "x = np.lcm(num1, num2)\n",
    "\n",
    "print(x)"
   ]
  },
  {
   "cell_type": "code",
   "execution_count": 78,
   "id": "87baf1d1-c2b6-4b6d-a532-161b36725eb2",
   "metadata": {},
   "outputs": [
    {
     "name": "stdout",
     "output_type": "stream",
     "text": [
      "18\n"
     ]
    }
   ],
   "source": [
    "import numpy as np\n",
    "\n",
    "arr = np.array([3, 6, 9])\n",
    "\n",
    "x = np.lcm.reduce(arr)#18 because that is the lowest common multiple of all three numbers (3*6=18, 6*3=18 and 9*2=18).\n",
    "\n",
    "print(x)"
   ]
  },
  {
   "cell_type": "code",
   "execution_count": 79,
   "id": "d82d567b-ad61-4dcb-9af1-130a1e3ece18",
   "metadata": {},
   "outputs": [
    {
     "name": "stdout",
     "output_type": "stream",
     "text": [
      "2520\n"
     ]
    }
   ],
   "source": [
    "import numpy as np\n",
    "\n",
    "arr = np.arange(1, 11)\n",
    "\n",
    "x = np.lcm.reduce(arr)\n",
    "\n",
    "print(x)"
   ]
  },
  {
   "cell_type": "code",
   "execution_count": 80,
   "id": "504841ad-f06a-48cd-9d54-f6c22f57f125",
   "metadata": {},
   "outputs": [
    {
     "name": "stdout",
     "output_type": "stream",
     "text": [
      "3\n"
     ]
    }
   ],
   "source": [
    "import numpy as np\n",
    "\n",
    "num1 = 6\n",
    "num2 = 9\n",
    "\n",
    "x = np.gcd(num1, num2)\n",
    "\n",
    "print(x)"
   ]
  },
  {
   "cell_type": "code",
   "execution_count": 81,
   "id": "e67385c9-4dfc-446a-9b45-45ba53ca5076",
   "metadata": {},
   "outputs": [
    {
     "name": "stdout",
     "output_type": "stream",
     "text": [
      "4\n"
     ]
    }
   ],
   "source": [
    "import numpy as np\n",
    "\n",
    "arr = np.array([20, 8, 32, 36, 16])\n",
    "\n",
    "x = np.gcd.reduce(arr)\n",
    "\n",
    "print(x)\n"
   ]
  },
  {
   "cell_type": "code",
   "execution_count": 82,
   "id": "55304edc-1161-4274-9415-1f030300c40a",
   "metadata": {},
   "outputs": [
    {
     "name": "stdout",
     "output_type": "stream",
     "text": [
      "1.0\n"
     ]
    }
   ],
   "source": [
    "import numpy as np\n",
    "\n",
    "x = np.sin(np.pi/2)\n",
    "\n",
    "print(x)"
   ]
  },
  {
   "cell_type": "code",
   "execution_count": 83,
   "id": "dc59458e-7c16-4159-ae4e-df7ea66d8a18",
   "metadata": {},
   "outputs": [
    {
     "name": "stdout",
     "output_type": "stream",
     "text": [
      "[1.         0.8660254  0.70710678 0.58778525]\n"
     ]
    }
   ],
   "source": [
    "import numpy as np\n",
    "\n",
    "arr = np.array([np.pi/2, np.pi/3, np.pi/4, np.pi/5])\n",
    "\n",
    "x = np.sin(arr)\n",
    "\n",
    "print(x)"
   ]
  },
  {
   "cell_type": "code",
   "execution_count": 84,
   "id": "ed8edd32-4a9b-4820-ba06-c85588553e8d",
   "metadata": {},
   "outputs": [
    {
     "name": "stdout",
     "output_type": "stream",
     "text": [
      "[1.57079633 3.14159265 4.71238898 6.28318531]\n"
     ]
    }
   ],
   "source": [
    "import numpy as np\n",
    "\n",
    "arr = np.array([90, 180, 270, 360])\n",
    "\n",
    "x = np.deg2rad(arr)#Convert all of the values in following array arr to radians:\n",
    "\n",
    "print(x)"
   ]
  },
  {
   "cell_type": "code",
   "execution_count": 85,
   "id": "5b64aca5-88a8-40c6-8d1f-748f406b4241",
   "metadata": {},
   "outputs": [
    {
     "name": "stdout",
     "output_type": "stream",
     "text": [
      "[ 90. 180. 270. 360.]\n"
     ]
    }
   ],
   "source": [
    "import numpy as np\n",
    "\n",
    "arr = np.array([np.pi/2, np.pi, 1.5*np.pi, 2*np.pi])\n",
    "\n",
    "x = np.rad2deg(arr)\n",
    "\n",
    "print(x)"
   ]
  },
  {
   "cell_type": "code",
   "execution_count": 87,
   "id": "70bedef8-398a-4e35-acb6-d7c90178b0a7",
   "metadata": {},
   "outputs": [
    {
     "name": "stdout",
     "output_type": "stream",
     "text": [
      "90.0\n"
     ]
    }
   ],
   "source": [
    "import numpy as np\n",
    "\n",
    "x = np.arcsin(1.0)\n",
    "y=np.rad2deg(x)\n",
    "print(y)"
   ]
  },
  {
   "cell_type": "code",
   "execution_count": 88,
   "id": "84e50ebb-2c5a-44c3-adcf-cd50f91d6b93",
   "metadata": {},
   "outputs": [
    {
     "name": "stdout",
     "output_type": "stream",
     "text": [
      "[ 90.         -90.           5.73917048]\n"
     ]
    }
   ],
   "source": [
    "import numpy as np\n",
    "\n",
    "arr = np.array([1, -1, 0.1])\n",
    "\n",
    "x = np.arcsin(arr)\n",
    "y=np.rad2deg(x)\n",
    "print(y)"
   ]
  },
  {
   "cell_type": "code",
   "execution_count": 89,
   "id": "6f3973fa-04c5-439d-b6be-28dc4ea8a1e2",
   "metadata": {},
   "outputs": [
    {
     "name": "stdout",
     "output_type": "stream",
     "text": [
      "5.0\n"
     ]
    }
   ],
   "source": [
    "#Hypotenues\n",
    "#Finding hypotenues using pythagoras theorem in NumPy.\n",
    "#NumPy provides the hypot() function that takes the base and perpendicular values and produces hypotenues based on pythagoras theorem.\n",
    "import numpy as np\n",
    "\n",
    "base = 3\n",
    "perp = 4\n",
    "\n",
    "x = np.hypot(base, perp)\n",
    "\n",
    "print(x)"
   ]
  },
  {
   "cell_type": "code",
   "execution_count": 90,
   "id": "ab835830-e552-4c2d-a8bb-dbb8e68de3c0",
   "metadata": {},
   "outputs": [
    {
     "name": "stdout",
     "output_type": "stream",
     "text": [
      "[1 2 3 4 5 6 7]\n"
     ]
    }
   ],
   "source": [
    "import numpy as np\n",
    "\n",
    "arr = np.array([1, 1, 1, 2, 3, 4, 5, 5, 6, 7])\n",
    "\n",
    "x = np.unique(arr)\n",
    "\n",
    "print(x)"
   ]
  },
  {
   "cell_type": "code",
   "execution_count": 91,
   "id": "7fa19e8b-a7c2-45f4-8571-f4fad618bb50",
   "metadata": {},
   "outputs": [
    {
     "name": "stdout",
     "output_type": "stream",
     "text": [
      "[1 2 3 4 5 6]\n"
     ]
    }
   ],
   "source": [
    "import numpy as np\n",
    "\n",
    "arr1 = np.array([1, 2, 3, 4])\n",
    "arr2 = np.array([3, 4, 5, 6])\n",
    "\n",
    "newarr = np.union1d(arr1, arr2)\n",
    "\n",
    "print(newarr)"
   ]
  },
  {
   "cell_type": "code",
   "execution_count": null,
   "id": "2a262eeb-7cfc-468a-8138-d2b934985c22",
   "metadata": {},
   "outputs": [],
   "source": []
  }
 ],
 "metadata": {
  "kernelspec": {
   "display_name": "Python 3 (ipykernel)",
   "language": "python",
   "name": "python3"
  },
  "language_info": {
   "codemirror_mode": {
    "name": "ipython",
    "version": 3
   },
   "file_extension": ".py",
   "mimetype": "text/x-python",
   "name": "python",
   "nbconvert_exporter": "python",
   "pygments_lexer": "ipython3",
   "version": "3.11.7"
  }
 },
 "nbformat": 4,
 "nbformat_minor": 5
}
