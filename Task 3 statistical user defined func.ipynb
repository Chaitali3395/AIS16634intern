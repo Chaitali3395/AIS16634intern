{
 "cells": [
  {
   "cell_type": "code",
   "execution_count": 2,
   "id": "2bcf39d2-c06d-4ce8-9265-b87306878ce1",
   "metadata": {},
   "outputs": [
    {
     "name": "stdout",
     "output_type": "stream",
     "text": [
      "Mean: 30\n"
     ]
    }
   ],
   "source": [
    "#Statistical user defined functions\n",
    "#1\n",
    "import statistics\n",
    "\n",
    "def calculate_mean(data):\n",
    "    return statistics.mean(data)\n",
    "\n",
    "# Example usage\n",
    "data = [10, 20, 30, 40, 50]\n",
    "mean_value = calculate_mean(data)\n",
    "print(\"Mean:\", mean_value)"
   ]
  },
  {
   "cell_type": "code",
   "execution_count": 4,
   "id": "7aaa9874-b7fc-4079-8980-99797b7823ab",
   "metadata": {},
   "outputs": [
    {
     "name": "stdout",
     "output_type": "stream",
     "text": [
      "Median: 30\n"
     ]
    }
   ],
   "source": [
    "#2\n",
    "import statistics\n",
    "\n",
    "def calculate_median(data):\n",
    "    return statistics.median(data)\n",
    "\n",
    "# Example usage\n",
    "data = [10, 20, 30, 40, 50]\n",
    "median_value = calculate_median(data)\n",
    "print(\"Median:\", median_value)"
   ]
  },
  {
   "cell_type": "code",
   "execution_count": 5,
   "id": "3e870644-c896-4dc3-ba49-b877dfe35b07",
   "metadata": {},
   "outputs": [
    {
     "name": "stdout",
     "output_type": "stream",
     "text": [
      "Mode: 30\n"
     ]
    }
   ],
   "source": [
    "#3\n",
    "import statistics\n",
    "\n",
    "def calculate_mode(data):\n",
    "    return statistics.mode(data)\n",
    "\n",
    "# Example usage\n",
    "data = [10, 20, 30, 30, 40, 50, 50]\n",
    "mode_value = calculate_mode(data)\n",
    "print(\"Mode:\", mode_value)"
   ]
  },
  {
   "cell_type": "code",
   "execution_count": 7,
   "id": "78b0b3aa-1415-4976-a451-0895b36c331b",
   "metadata": {},
   "outputs": [
    {
     "name": "stdout",
     "output_type": "stream",
     "text": [
      "Standard Deviation: 15.811388300841896\n"
     ]
    }
   ],
   "source": [
    "#4\n",
    "import statistics\n",
    "\n",
    "def calculate_std_deviation(data):\n",
    "    return statistics.stdev(data)\n",
    "\n",
    "# Example usage\n",
    "data = [10, 20, 30, 40, 50]\n",
    "std_deviation_value = calculate_std_deviation(data)\n",
    "print(\"Standard Deviation:\", std_deviation_value)"
   ]
  },
  {
   "cell_type": "code",
   "execution_count": 8,
   "id": "6514e4d0-18ae-49f5-9419-1848a3e78f24",
   "metadata": {},
   "outputs": [
    {
     "name": "stdout",
     "output_type": "stream",
     "text": [
      "Variance: 250\n"
     ]
    }
   ],
   "source": [
    "#5\n",
    "import statistics\n",
    "\n",
    "def calculate_variance(data):\n",
    "    return statistics.variance(data)\n",
    "\n",
    "# Example usage\n",
    "data = [10, 20, 30, 40, 50]\n",
    "variance_value = calculate_variance(data)\n",
    "print(\"Variance:\", variance_value)"
   ]
  },
  {
   "cell_type": "code",
   "execution_count": 10,
   "id": "4109cff7-e6e4-47f4-a7b0-30622508d009",
   "metadata": {},
   "outputs": [
    {
     "name": "stdout",
     "output_type": "stream",
     "text": [
      "Range: 40\n"
     ]
    }
   ],
   "source": [
    "#6\n",
    "def calculate_range(data):\n",
    "    return max(data) - min(data)\n",
    "\n",
    "# Example usage\n",
    "data = [10, 20, 30, 40, 50]\n",
    "range_value = calculate_range(data)\n",
    "print(\"Range:\", range_value)"
   ]
  },
  {
   "cell_type": "code",
   "execution_count": 11,
   "id": "694626eb-0997-4f2f-a975-80e780eaec07",
   "metadata": {},
   "outputs": [
    {
     "name": "stdout",
     "output_type": "stream",
     "text": [
      "Quartiles: [20. 30. 40.]\n"
     ]
    }
   ],
   "source": [
    "#7\n",
    "import numpy as np\n",
    "\n",
    "def calculate_quartiles(data):\n",
    "    return np.percentile(data, [25, 50, 75])\n",
    "\n",
    "# Example usage\n",
    "data = [10, 20, 30, 40, 50]\n",
    "quartiles = calculate_quartiles(data)\n",
    "print(\"Quartiles:\", quartiles)"
   ]
  },
  {
   "cell_type": "code",
   "execution_count": 12,
   "id": "28297aae-a9ff-40f9-96ac-a923d7dcd452",
   "metadata": {},
   "outputs": [
    {
     "name": "stdout",
     "output_type": "stream",
     "text": [
      "Interquartile Range (IQR): 20.0\n"
     ]
    }
   ],
   "source": [
    "#8\n",
    "import numpy as np\n",
    "\n",
    "def calculate_iqr(data):\n",
    "    q1, q3 = np.percentile(data, [25, 75])\n",
    "    return q3 - q1\n",
    "\n",
    "# Example usage\n",
    "data = [10, 20, 30, 40, 50]\n",
    "iqr_value = calculate_iqr(data)\n",
    "print(\"Interquartile Range (IQR):\", iqr_value)"
   ]
  },
  {
   "cell_type": "code",
   "execution_count": 13,
   "id": "ae127ea4-6ac2-4437-8164-a6e9e77044d0",
   "metadata": {},
   "outputs": [
    {
     "name": "stdout",
     "output_type": "stream",
     "text": [
      "Coefficient of Variation: 52.70462766947299\n"
     ]
    }
   ],
   "source": [
    "#9\n",
    "def calculate_coefficient_of_variation(data):\n",
    "    mean = statistics.mean(data)\n",
    "    std_dev = statistics.stdev(data)\n",
    "    return (std_dev / mean) * 100 if mean != 0 else 0\n",
    "\n",
    "# Example usage\n",
    "data = [10, 20, 30, 40, 50]\n",
    "cv_value = calculate_coefficient_of_variation(data)\n",
    "print(\"Coefficient of Variation:\", cv_value)"
   ]
  },
  {
   "cell_type": "code",
   "execution_count": 16,
   "id": "376527c5-4b56-4a9c-b61e-5dd481eb8dae",
   "metadata": {},
   "outputs": [
    {
     "name": "stdout",
     "output_type": "stream",
     "text": [
      "Skewness: 0.0\n"
     ]
    }
   ],
   "source": [
    "#10\n",
    "from scipy.stats import skew\n",
    "def calculate_skewness(data):\n",
    "    return skew(data)\n",
    "\n",
    "# Example usage\n",
    "data = [10, 20, 30, 40, 50]\n",
    "skewness_value = calculate_skewness(data)\n",
    "print(\"Skewness:\", skewness_value)"
   ]
  },
  {
   "cell_type": "code",
   "execution_count": null,
   "id": "86d32d0b-881f-4bc4-97c0-de12480d7b38",
   "metadata": {},
   "outputs": [],
   "source": []
  }
 ],
 "metadata": {
  "kernelspec": {
   "display_name": "Python 3 (ipykernel)",
   "language": "python",
   "name": "python3"
  },
  "language_info": {
   "codemirror_mode": {
    "name": "ipython",
    "version": 3
   },
   "file_extension": ".py",
   "mimetype": "text/x-python",
   "name": "python",
   "nbconvert_exporter": "python",
   "pygments_lexer": "ipython3",
   "version": "3.11.7"
  }
 },
 "nbformat": 4,
 "nbformat_minor": 5
}
