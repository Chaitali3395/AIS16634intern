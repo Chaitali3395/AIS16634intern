{
 "cells": [
  {
   "cell_type": "code",
   "execution_count": 3,
   "id": "4e6b0290-6672-4e25-a819-140a0095c1ca",
   "metadata": {},
   "outputs": [
    {
     "name": "stdout",
     "output_type": "stream",
     "text": [
      "1\n",
      "2\n",
      "4\n",
      "5\n",
      "6\n",
      "7\n",
      "8\n",
      "9\n",
      "10\n"
     ]
    }
   ],
   "source": [
    "#continue Statement\n",
    "for i in range(1,11):\n",
    "    if i==3:\n",
    "        continue\n",
    "    print(i)     \n"
   ]
  },
  {
   "cell_type": "code",
   "execution_count": 4,
   "id": "a3621506-966e-4076-ab46-cfe9449ce9fe",
   "metadata": {},
   "outputs": [
    {
     "name": "stdout",
     "output_type": "stream",
     "text": [
      "1\n",
      "3\n",
      "5\n",
      "7\n",
      "9\n"
     ]
    }
   ],
   "source": [
    "#2\n",
    "for i in range(1,11):\n",
    "    if i %2==0:\n",
    "        continue\n",
    "    print(i)    "
   ]
  },
  {
   "cell_type": "code",
   "execution_count": 6,
   "id": "90381cc0-7f22-4b3a-8a08-97ba80b7f46f",
   "metadata": {},
   "outputs": [
    {
     "name": "stdout",
     "output_type": "stream",
     "text": [
      "h\n",
      "l\n",
      "l\n"
     ]
    }
   ],
   "source": [
    "#3\n",
    "word = \"hello\"\n",
    "for char in word:\n",
    "    if char in \"aeiouAEIOU\":  # Skip vowels\n",
    "        continue\n",
    "    print(char)"
   ]
  },
  {
   "cell_type": "code",
   "execution_count": 8,
   "id": "e4ecf75a-2633-4c60-a883-c4d11bece79e",
   "metadata": {},
   "outputs": [
    {
     "name": "stdout",
     "output_type": "stream",
     "text": [
      "10\n",
      "30\n",
      "50\n"
     ]
    }
   ],
   "source": [
    "#4\n",
    "numbers = [10, -20, 30, -40, 50]\n",
    "for num in numbers:\n",
    "    if num < 0:  # Skip negative numbers\n",
    "        continue\n",
    "    print(num)"
   ]
  },
  {
   "cell_type": "code",
   "execution_count": 10,
   "id": "6671d973-71e5-498d-9f80-ddf85e046947",
   "metadata": {},
   "outputs": [
    {
     "name": "stdout",
     "output_type": "stream",
     "text": [
      "('a', 10)\n",
      "('c', 30)\n"
     ]
    }
   ],
   "source": [
    "#5\n",
    "my_list = [('a', 10), ('b', -20), ('c', 30), ('d', -40)]\n",
    "for item in my_list:\n",
    "    if item[1] < 0:  # Skip tuples where second element is negative\n",
    "        continue\n",
    "    print(item)"
   ]
  },
  {
   "cell_type": "code",
   "execution_count": 11,
   "id": "27dca97a-f6a8-46f4-a100-282b1dc7b222",
   "metadata": {},
   "outputs": [
    {
     "name": "stdout",
     "output_type": "stream",
     "text": [
      "apple 10\n",
      "cherry 30\n"
     ]
    }
   ],
   "source": [
    "#6\n",
    "my_dict = {'apple': 10, 'banana': 20, 'cherry': 30}\n",
    "for key, value in my_dict.items():\n",
    "    if key.startswith('b'):  # Skip keys starting with 'b'\n",
    "        continue\n",
    "    print(key, value)"
   ]
  },
  {
   "cell_type": "code",
   "execution_count": 12,
   "id": "949e2457-fd4f-4dcd-95cc-72ad75cbc30f",
   "metadata": {},
   "outputs": [
    {
     "name": "stdout",
     "output_type": "stream",
     "text": [
      "1 1\n",
      "1 2\n",
      "2 1\n",
      "2 3\n",
      "3 2\n",
      "3 3\n"
     ]
    }
   ],
   "source": [
    "#7\n",
    "for i in range(1, 4):\n",
    "    for j in range(1, 4):\n",
    "        if i + j == 4:  # Skip combinations where sum is 4\n",
    "            continue\n",
    "        print(i, j)"
   ]
  },
  {
   "cell_type": "code",
   "execution_count": 13,
   "id": "72a96e85-b7e9-4c94-9599-a91c809ba016",
   "metadata": {},
   "outputs": [
    {
     "name": "stdout",
     "output_type": "stream",
     "text": [
      "10\n",
      "20\n",
      "30\n"
     ]
    }
   ],
   "source": [
    "#8\n",
    "items = [10, \"apple\", 20, \"banana\", 30, \"cherry\"]\n",
    "for item in items:\n",
    "    if isinstance(item, str):  # Skip strings\n",
    "        continue\n",
    "    print(item)"
   ]
  },
  {
   "cell_type": "code",
   "execution_count": 14,
   "id": "4c11cfbb-50e9-4ae5-857d-404e95f4bb85",
   "metadata": {},
   "outputs": [
    {
     "name": "stdout",
     "output_type": "stream",
     "text": [
      "apple\n",
      "banana\n",
      "elephant\n"
     ]
    }
   ],
   "source": [
    "#9\n",
    "words = ['apple', 'banana', 'cat', 'dog', 'elephant']\n",
    "for word in words:\n",
    "    if len(word) < 5:  # Skip strings with length less than 5\n",
    "        continue\n",
    "    print(word)"
   ]
  },
  {
   "cell_type": "code",
   "execution_count": 15,
   "id": "af6b2d15-6e4b-49e4-8acb-52aa4545d13d",
   "metadata": {},
   "outputs": [
    {
     "name": "stdout",
     "output_type": "stream",
     "text": [
      "12\n",
      "20\n"
     ]
    }
   ],
   "source": [
    "#10\n",
    "numbers = [5, 8, 12, 17, 20]\n",
    "for num in numbers:\n",
    "    if num <= 10 or num % 2 != 0:  # Skip odd numbers and numbers less than or equal to 10\n",
    "        continue\n",
    "    print(num)"
   ]
  },
  {
   "cell_type": "code",
   "execution_count": null,
   "id": "161bc728-73ef-4a37-82fa-1b6cea833200",
   "metadata": {},
   "outputs": [],
   "source": []
  }
 ],
 "metadata": {
  "kernelspec": {
   "display_name": "Python 3 (ipykernel)",
   "language": "python",
   "name": "python3"
  },
  "language_info": {
   "codemirror_mode": {
    "name": "ipython",
    "version": 3
   },
   "file_extension": ".py",
   "mimetype": "text/x-python",
   "name": "python",
   "nbconvert_exporter": "python",
   "pygments_lexer": "ipython3",
   "version": "3.11.7"
  }
 },
 "nbformat": 4,
 "nbformat_minor": 5
}
