{
 "cells": [
  {
   "cell_type": "code",
   "execution_count": 2,
   "id": "a44f65f5-38f0-4c51-a199-3b867efe16a4",
   "metadata": {},
   "outputs": [
    {
     "name": "stdout",
     "output_type": "stream",
     "text": [
      "a is greater than b\n"
     ]
    }
   ],
   "source": [
    "# if elif else\n",
    "#f condition1:\n",
    "    # code block 1\n",
    "\n",
    "#elif condition2:\n",
    "    # code block 2\n",
    "\n",
    "#else: \n",
    "    # code block 3\n",
    "#Here,\n",
    "\n",
    "#if condition1 - This checks if condition1 is True. If it is, the program executes code block 1.\n",
    "#elif condition2 - If condition1 is not True, the program checks condition2. If condition2 is True, it executes code block 2.\n",
    "#else - If neither condition1 nor condition2 is True, the program defaults to executing code block 3.\n",
    "#1\n",
    "a = 200\n",
    "b = 33\n",
    "if b > a:\n",
    "  print(\"b is greater than a\")\n",
    "elif a == b:\n",
    "  print(\"a and b are equal\")\n",
    "else:\n",
    "  print(\"a is greater than b\")"
   ]
  },
  {
   "cell_type": "code",
   "execution_count": 3,
   "id": "28ec120b-66aa-45fe-a951-52bf529e5c42",
   "metadata": {},
   "outputs": [
    {
     "name": "stdin",
     "output_type": "stream",
     "text": [
      "enter a num 0\n"
     ]
    },
    {
     "name": "stdout",
     "output_type": "stream",
     "text": [
      "zero\n"
     ]
    }
   ],
   "source": [
    "#2\n",
    "n=int(input(\"enter a num\"))\n",
    "if n>0:\n",
    "    print(\"positive\")\n",
    "elif n==0:\n",
    "    print(\"zero\")\n",
    "else:\n",
    "    print(\"negative\")\n",
    "      "
   ]
  },
  {
   "cell_type": "code",
   "execution_count": 7,
   "id": "a275f160-1895-4311-af91-6e8fa8883ed6",
   "metadata": {},
   "outputs": [
    {
     "name": "stdin",
     "output_type": "stream",
     "text": [
      "enter a letter o\n"
     ]
    },
    {
     "name": "stdout",
     "output_type": "stream",
     "text": [
      "small letter\n"
     ]
    }
   ],
   "source": [
    "#3\n",
    "ch=input(\"enter a letter\")\n",
    "if ch>='A' and ch<='Z':\n",
    "    print(\"captital letter\")\n",
    "elif ch>='a' and ch<='z':\n",
    "    print(\"small letter\")\n",
    "else:\n",
    "    print(\"not a string\")"
   ]
  },
  {
   "cell_type": "code",
   "execution_count": 10,
   "id": "b84acbf1-d434-4b44-b298-7a66dda65379",
   "metadata": {},
   "outputs": [
    {
     "name": "stdin",
     "output_type": "stream",
     "text": [
      "enter percent 34\n"
     ]
    },
    {
     "name": "stdout",
     "output_type": "stream",
     "text": [
      "fail\n"
     ]
    }
   ],
   "source": [
    "#4\n",
    "p=int(input(\"enter percent\"))\n",
    "if p>=75:\n",
    "    print(\"distinction\")\n",
    "elif p>=40 and p<75:\n",
    "    print(\"A grade\")\n",
    "else:\n",
    "    print(\"fail\")\n"
   ]
  },
  {
   "cell_type": "code",
   "execution_count": 12,
   "id": "6757bba4-33f1-4394-9916-51d4763a39b1",
   "metadata": {},
   "outputs": [
    {
     "name": "stdin",
     "output_type": "stream",
     "text": [
      "enter colo red\n"
     ]
    },
    {
     "name": "stdout",
     "output_type": "stream",
     "text": [
      "not blue and not green\n"
     ]
    }
   ],
   "source": [
    "#5\n",
    "c=input(\"enter colo\")\n",
    "if c==\"blue\":\n",
    "    print(\"color is blue\")\n",
    "elif c==\"green\":\n",
    "    print(\"color is green\")\n",
    "else:\n",
    "    print(\"not blue and not green\")"
   ]
  },
  {
   "cell_type": "code",
   "execution_count": 16,
   "id": "3448b759-90b0-4dd5-b531-038c5c899178",
   "metadata": {},
   "outputs": [
    {
     "name": "stdin",
     "output_type": "stream",
     "text": [
      "enter age 36\n"
     ]
    },
    {
     "name": "stdout",
     "output_type": "stream",
     "text": [
      "adult student\n"
     ]
    }
   ],
   "source": [
    "#6\n",
    "a=int(input(\"enter age\"))\n",
    "isst=True\n",
    "if a<18:\n",
    "    print(\"minor\")\n",
    "elif a>=18 and isst:\n",
    "    print(\"adult student\")\n",
    "else:\n",
    "    print(\"you are adult\")\n",
    "      "
   ]
  },
  {
   "cell_type": "code",
   "execution_count": 18,
   "id": "d5346b91-e7a5-44bc-9f9d-a5fe4a0e1d38",
   "metadata": {},
   "outputs": [
    {
     "name": "stdout",
     "output_type": "stream",
     "text": [
      "hii asha\n"
     ]
    }
   ],
   "source": [
    "#7\n",
    "n=\"asha\"\n",
    "if n==\"asha\":\n",
    "    print(\"hii asha\")\n",
    "elif n==\"ram\":\n",
    "    print(\"hi ram\")\n",
    "else:\n",
    "    print(\"hi stranger\")"
   ]
  },
  {
   "cell_type": "code",
   "execution_count": 23,
   "id": "65dd2b24-6984-46ee-8422-849d9184db8c",
   "metadata": {},
   "outputs": [
    {
     "name": "stdin",
     "output_type": "stream",
     "text": [
      "enter a year 2020\n"
     ]
    },
    {
     "name": "stdout",
     "output_type": "stream",
     "text": [
      "leap year\n"
     ]
    }
   ],
   "source": [
    "#8\n",
    "y=int(input(\"enter a year\"))\n",
    "if y%4==0:\n",
    "    print(\"leap year\")\n",
    "elif y %4!=0:\n",
    "    print(\"not leap\")\n",
    "else:\n",
    "    print(\"invalid year\")"
   ]
  },
  {
   "cell_type": "code",
   "execution_count": 25,
   "id": "7f0c948a-4708-41c8-bd14-04a994266536",
   "metadata": {},
   "outputs": [
    {
     "name": "stdin",
     "output_type": "stream",
     "text": [
      "enter a letter w\n"
     ]
    },
    {
     "name": "stdout",
     "output_type": "stream",
     "text": [
      "invalid\n"
     ]
    }
   ],
   "source": [
    "#9\n",
    "char=input(\"enter a letter\")\n",
    "if char in 'aeiou' or char in 'AEIOU':\n",
    "    print(\"vowel\")\n",
    "elif ch not in 'aeiou' and ch not in'AEIOU':\n",
    "    print(\"consonant\")\n",
    "else:\n",
    "  print(\"invalid\")"
   ]
  },
  {
   "cell_type": "code",
   "execution_count": 27,
   "id": "3fef4513-5728-49c1-8844-71808f97ed8e",
   "metadata": {},
   "outputs": [
    {
     "name": "stdin",
     "output_type": "stream",
     "text": [
      "enter a num 12\n",
      "enter second num 98\n"
     ]
    },
    {
     "name": "stdout",
     "output_type": "stream",
     "text": [
      "98 is greater\n"
     ]
    }
   ],
   "source": [
    "#10\n",
    "n1=int(input(\"enter a num\"))\n",
    "n2=int(input(\"enter second num\"))\n",
    "if n1>n2:\n",
    "    print( n1,\"is greater\")\n",
    "elif n1<n2:\n",
    "    print( n2,\"is greater\")\n",
    "else:\n",
    "    print(\"both are equal\")"
   ]
  },
  {
   "cell_type": "code",
   "execution_count": null,
   "id": "9ccf1bcd-0ea4-4af4-98ac-3403f834f587",
   "metadata": {},
   "outputs": [],
   "source": []
  }
 ],
 "metadata": {
  "kernelspec": {
   "display_name": "Python 3 (ipykernel)",
   "language": "python",
   "name": "python3"
  },
  "language_info": {
   "codemirror_mode": {
    "name": "ipython",
    "version": 3
   },
   "file_extension": ".py",
   "mimetype": "text/x-python",
   "name": "python",
   "nbconvert_exporter": "python",
   "pygments_lexer": "ipython3",
   "version": "3.11.7"
  }
 },
 "nbformat": 4,
 "nbformat_minor": 5
}
