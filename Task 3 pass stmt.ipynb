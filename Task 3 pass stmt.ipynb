{
 "cells": [
  {
   "cell_type": "code",
   "execution_count": 5,
   "id": "18e5ca6e-fc3c-4cde-9f7b-e1aa59d2492e",
   "metadata": {},
   "outputs": [
    {
     "name": "stdout",
     "output_type": "stream",
     "text": [
      "5\n"
     ]
    }
   ],
   "source": [
    "#PASS Statement\n",
    "#The pass statement in Python is a no-operation statement, meaning it does nothing when executed. Its primary uses are:\n",
    "#Placeholder for Future Code: It allows you to write syntactically correct code when you have not yet implemented the functionality but need to leave a placeholder.\n",
    "#1\n",
    "c=0\n",
    "while c<5:\n",
    "    c=c+1\n",
    "    pass\n",
    "print(c)"
   ]
  },
  {
   "cell_type": "code",
   "execution_count": 3,
   "id": "a89f4165-f910-4e43-80d4-e9b3e7c5e4bc",
   "metadata": {},
   "outputs": [
    {
     "name": "stdout",
     "output_type": "stream",
     "text": [
      "banana\n"
     ]
    }
   ],
   "source": [
    "#2\n",
    "l=\"banana\"\n",
    "for x in l:\n",
    "    if x==\"a\":\n",
    "        pass\n",
    "print(l)\n"
   ]
  },
  {
   "cell_type": "code",
   "execution_count": 9,
   "id": "c3e3e194-4b38-426a-aa41-df3af8057574",
   "metadata": {},
   "outputs": [
    {
     "name": "stdout",
     "output_type": "stream",
     "text": [
      "odd num: 1\n",
      "odd num: 3\n",
      "odd num: 5\n",
      "odd num: 7\n",
      "odd num: 9\n"
     ]
    }
   ],
   "source": [
    "33\n",
    "for i in range(10):\n",
    "    if i %2==0:\n",
    "        pass\n",
    "    else:\n",
    "        print(\"odd num:\",i)"
   ]
  }
 ],
 "metadata": {
  "kernelspec": {
   "display_name": "Python 3 (ipykernel)",
   "language": "python",
   "name": "python3"
  },
  "language_info": {
   "codemirror_mode": {
    "name": "ipython",
    "version": 3
   },
   "file_extension": ".py",
   "mimetype": "text/x-python",
   "name": "python",
   "nbconvert_exporter": "python",
   "pygments_lexer": "ipython3",
   "version": "3.11.7"
  }
 },
 "nbformat": 4,
 "nbformat_minor": 5
}
