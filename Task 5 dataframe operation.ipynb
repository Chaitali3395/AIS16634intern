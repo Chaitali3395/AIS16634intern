{
 "cells": [
  {
   "cell_type": "code",
   "execution_count": 1,
   "id": "8c536700-5898-4bdc-88c4-fda2ee8206a4",
   "metadata": {},
   "outputs": [
    {
     "name": "stdout",
     "output_type": "stream",
     "text": [
      "Count of each value in column 'A':\n",
      "A\n",
      "4    3\n",
      "2    2\n",
      "1    1\n",
      "3    1\n",
      "5    1\n",
      "Name: count, dtype: int64\n",
      "\n",
      "DataFrame with 'A_squared':\n",
      "   A    B  A_squared\n",
      "0  1  foo          1\n",
      "1  2  bar          4\n",
      "2  2  foo          4\n",
      "3  3  bar          9\n",
      "4  4  foo         16\n",
      "5  4  bar         16\n",
      "6  4  foo         16\n",
      "7  5  bar         25\n",
      "\n",
      "Unique values in column 'B':\n",
      "['foo' 'bar']\n",
      "\n",
      "Count of unique values in column 'B':\n",
      "2\n"
     ]
    }
   ],
   "source": [
    "#Dataframe operations\n",
    "import pandas as pd\n",
    "\n",
    "# Create a sample DataFrame\n",
    "data = {\n",
    "    'A': [1, 2, 2, 3, 4, 4, 4, 5],\n",
    "    'B': ['foo', 'bar', 'foo', 'bar', 'foo', 'bar', 'foo', 'bar']\n",
    "}\n",
    "\n",
    "df = pd.DataFrame(data)\n",
    "\n",
    "# Count occurrences of each value in column 'A'\n",
    "count_A = df['A'].value_counts()\n",
    "print(\"Count of each value in column 'A':\")\n",
    "print(count_A)\n",
    "\n",
    "# Apply a function to column 'A' (e.g., square each value)\n",
    "df['A_squared'] = df['A'].apply(lambda x: x ** 2)\n",
    "print(\"\\nDataFrame with 'A_squared':\")\n",
    "print(df)\n",
    "\n",
    "# Find unique values in column 'B'\n",
    "unique_B = df['B'].unique()\n",
    "print(\"\\nUnique values in column 'B':\")\n",
    "print(unique_B)\n",
    "\n",
    "# Count unique values in column 'B'\n",
    "unique_count_B = df['B'].nunique()\n",
    "print(\"\\nCount of unique values in column 'B':\")\n",
    "print(unique_count_B)"
   ]
  },
  {
   "cell_type": "code",
   "execution_count": 3,
   "id": "8a1d9cc4-8943-421b-b982-ecd4f75835aa",
   "metadata": {},
   "outputs": [
    {
     "name": "stdout",
     "output_type": "stream",
     "text": [
      "   A    B  A_squared\n",
      "0  1  foo          1\n",
      "1  2  bar          4\n",
      "2  2  foo          4\n",
      "3  3  bar          9\n",
      "4  4  foo         16\n"
     ]
    }
   ],
   "source": [
    "print(df.head())"
   ]
  },
  {
   "cell_type": "code",
   "execution_count": 5,
   "id": "664b9085-c16d-4627-8108-a0eba7c7e989",
   "metadata": {},
   "outputs": [
    {
     "name": "stdout",
     "output_type": "stream",
     "text": [
      "   A    B  A_squared\n",
      "3  3  bar          9\n",
      "4  4  foo         16\n",
      "5  4  bar         16\n",
      "6  4  foo         16\n",
      "7  5  bar         25\n"
     ]
    }
   ],
   "source": [
    "print(df.tail())"
   ]
  },
  {
   "cell_type": "code",
   "execution_count": 6,
   "id": "06bd113a-f885-4ff5-bea2-706134aca8dd",
   "metadata": {},
   "outputs": [
    {
     "name": "stdout",
     "output_type": "stream",
     "text": [
      "<class 'pandas.core.frame.DataFrame'>\n",
      "RangeIndex: 8 entries, 0 to 7\n",
      "Data columns (total 3 columns):\n",
      " #   Column     Non-Null Count  Dtype \n",
      "---  ------     --------------  ----- \n",
      " 0   A          8 non-null      int64 \n",
      " 1   B          8 non-null      object\n",
      " 2   A_squared  8 non-null      int64 \n",
      "dtypes: int64(2), object(1)\n",
      "memory usage: 324.0+ bytes\n",
      "None\n"
     ]
    }
   ],
   "source": [
    "print(df.info())"
   ]
  },
  {
   "cell_type": "code",
   "execution_count": 7,
   "id": "7e4eaf11-870e-4176-804f-b4b6da59a444",
   "metadata": {},
   "outputs": [
    {
     "name": "stdout",
     "output_type": "stream",
     "text": [
      "              A  A_squared\n",
      "count  8.000000   8.000000\n",
      "mean   3.125000  11.375000\n",
      "std    1.356203   8.210403\n",
      "min    1.000000   1.000000\n",
      "25%    2.000000   4.000000\n",
      "50%    3.500000  12.500000\n",
      "75%    4.000000  16.000000\n",
      "max    5.000000  25.000000\n"
     ]
    }
   ],
   "source": [
    "print(df.describe())"
   ]
  }
 ],
 "metadata": {
  "kernelspec": {
   "display_name": "Python 3 (ipykernel)",
   "language": "python",
   "name": "python3"
  },
  "language_info": {
   "codemirror_mode": {
    "name": "ipython",
    "version": 3
   },
   "file_extension": ".py",
   "mimetype": "text/x-python",
   "name": "python",
   "nbconvert_exporter": "python",
   "pygments_lexer": "ipython3",
   "version": "3.11.7"
  }
 },
 "nbformat": 4,
 "nbformat_minor": 5
}
