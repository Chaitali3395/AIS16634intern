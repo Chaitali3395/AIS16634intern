{
 "cells": [
  {
   "cell_type": "code",
   "execution_count": 1,
   "id": "15ee8164-2b1e-4962-92a0-e53c77f2a209",
   "metadata": {},
   "outputs": [
    {
     "name": "stdout",
     "output_type": "stream",
     "text": [
      "   calories  duration\n",
      "0       420        50\n",
      "1       380        40\n",
      "2       390        45\n"
     ]
    }
   ],
   "source": [
    "#Dataframe\n",
    "#What is a DataFrame?\n",
    "#A Pandas DataFrame is a 2 dimensional data structure, like a 2 dimensional array, or a table with rows and columns.\n",
    "import pandas as pd\n",
    "\n",
    "data = {\n",
    "  \"calories\": [420, 380, 390],\n",
    "  \"duration\": [50, 40, 45]\n",
    "}\n",
    "\n",
    "#load data into a DataFrame object:\n",
    "df = pd.DataFrame(data)\n",
    "\n",
    "print(df) "
   ]
  },
  {
   "cell_type": "code",
   "execution_count": 2,
   "id": "409df3d2-4d50-4085-a951-f3b5973aa74e",
   "metadata": {},
   "outputs": [
    {
     "name": "stdout",
     "output_type": "stream",
     "text": [
      "calories    420\n",
      "duration     50\n",
      "Name: 0, dtype: int64\n"
     ]
    }
   ],
   "source": [
    "#Locate Row\n",
    "#As you can see from the result above, the DataFrame is like a table with rows and columns.\n",
    "#Pandas use the loc attribute to return one or more specified row(s)\n",
    "print(df.loc[0])"
   ]
  },
  {
   "cell_type": "code",
   "execution_count": 3,
   "id": "a6638578-854e-4fe1-8ad2-0c9c37911abc",
   "metadata": {},
   "outputs": [
    {
     "name": "stdout",
     "output_type": "stream",
     "text": [
      "   calories  duration\n",
      "0       420        50\n",
      "1       380        40\n"
     ]
    }
   ],
   "source": [
    "print(df.loc[[0, 1]])"
   ]
  },
  {
   "cell_type": "code",
   "execution_count": 4,
   "id": "1397ccfd-895b-4eec-8a68-6ce4e266cc84",
   "metadata": {},
   "outputs": [
    {
     "name": "stdout",
     "output_type": "stream",
     "text": [
      "      calories  duration\n",
      "day1       420        50\n",
      "day2       380        40\n",
      "day3       390        45\n"
     ]
    }
   ],
   "source": [
    "import pandas as pd\n",
    "\n",
    "data = {\n",
    "  \"calories\": [420, 380, 390],\n",
    "  \"duration\": [50, 40, 45]\n",
    "}\n",
    "\n",
    "df = pd.DataFrame(data, index = [\"day1\", \"day2\", \"day3\"])\n",
    "\n",
    "print(df) "
   ]
  },
  {
   "cell_type": "code",
   "execution_count": 6,
   "id": "fd5638cf-368a-43b9-ab63-f5496d8b0cad",
   "metadata": {},
   "outputs": [
    {
     "name": "stdout",
     "output_type": "stream",
     "text": [
      "calories    380\n",
      "duration     40\n",
      "Name: day2, dtype: int64\n"
     ]
    }
   ],
   "source": [
    "print(df.loc[\"day2\"])"
   ]
  },
  {
   "cell_type": "code",
   "execution_count": 7,
   "id": "d5dc46f5-b923-4059-99f1-732bc4a58f97",
   "metadata": {},
   "outputs": [],
   "source": [
    "#Load Files Into a DataFrame\n",
    "#If your data sets are stored in a file, Pandas can load them into a DataFrame.\n",
    "#import pandas as pd\n",
    "\n",
    "#df = pd.read_csv('data.csv')\n",
    "\n",
    "#print(df) "
   ]
  },
  {
   "cell_type": "code",
   "execution_count": 7,
   "id": "0f3378eb-4bf5-4e88-82a4-f04ace54d0dc",
   "metadata": {},
   "outputs": [
    {
     "name": "stdout",
     "output_type": "stream",
     "text": [
      "Requirement already satisfied: openpyxl in c:\\users\\admin\\anaconda3\\lib\\site-packages (3.0.10)\n",
      "Requirement already satisfied: et_xmlfile in c:\\users\\admin\\anaconda3\\lib\\site-packages (from openpyxl) (1.1.0)\n",
      "                 Type  Economy  Service  Value  Price  Design  Sporty Car  \\\n",
      "0                Audi      3.9      2.8    2.2    4.2     3.0         3.1   \n",
      "1                 BMW      4.8      1.6    1.9    5.0     2.0         2.5   \n",
      "2             Citroen      3.0      3.8    3.8    2.7     4.0         4.4   \n",
      "3             Ferrari      5.3      2.9    2.2    5.9     1.7         1.1   \n",
      "4            Fiat Uno      2.1      3.9    4.0    2.6     4.5         4.4   \n",
      "5         Ford_Fiesta      2.3      3.1    3.4    2.6     3.2         3.3   \n",
      "6             Hyundai      2.5      3.4    3.2    2.2     3.3         3.3   \n",
      "7              Jaguar      4.6      2.4    1.6    5.5     1.3         1.6   \n",
      "8                Lada      3.2      3.9    4.3    2.0     4.3         4.5   \n",
      "9               Mazda      2.6      3.3    3.7    2.8     3.7         3.0   \n",
      "10           Mercedes      4.1      1.7    1.8    4.6     2.4         3.2   \n",
      "11  Mitsubishi_Galant      3.2      2.9    3.2    3.5     3.1         3.1   \n",
      "12       Nissan_Sunny      2.6      3.3    3.9    2.1     3.5         3.9   \n",
      "13         Opel_Corsa      2.2      2.4    3.0    2.6     3.2         4.0   \n",
      "14        Opel_Vectra      3.1      2.6    2.3    3.6     2.8         2.9   \n",
      "15            Peugeot      2.9      3.5    3.6    2.8     3.2         3.8   \n",
      "16            Renault      2.7      3.3    3.4    3.0     3.1         3.4   \n",
      "17              Rover      3.9      2.8    2.6    4.0     2.6         3.0   \n",
      "18     Toyota_Corolla      2.5      2.9    3.4    3.0     3.2         3.1   \n",
      "19              Volvo      3.8      2.3    1.9    4.2     3.1         3.6   \n",
      "20            Trabant      3.6      4.7    5.5    1.5     4.1         5.8   \n",
      "21            VW_Golf      2.4      2.1    2.0    2.6     3.2         3.1   \n",
      "22          VW_Passat      3.1      2.2    2.1    3.2     3.5         3.5   \n",
      "23           Wartburg      3.7      4.7    5.5    1.7     4.8         5.2   \n",
      "\n",
      "    Safety  Easy_Handling  \n",
      "0      2.4            2.8  \n",
      "1      1.6            2.8  \n",
      "2      4.0            2.6  \n",
      "3      3.3            4.3  \n",
      "4      4.4            2.2  \n",
      "5      3.6            2.8  \n",
      "6      3.3            2.4  \n",
      "7      2.8            3.6  \n",
      "8      4.7            2.9  \n",
      "9      3.7            3.1  \n",
      "10     1.4            2.4  \n",
      "11     2.9            2.6  \n",
      "12     3.8            2.4  \n",
      "13     2.9            2.4  \n",
      "14     2.4            2.4  \n",
      "15     3.2            2.6  \n",
      "16     3.0            2.7  \n",
      "17     3.2            3.0  \n",
      "18     3.2            2.8  \n",
      "19     1.6            2.4  \n",
      "20     5.9            3.1  \n",
      "21     3.1            1.6  \n",
      "22     2.8            1.8  \n",
      "23     5.5            4.0  \n"
     ]
    }
   ],
   "source": [
    "\n",
    "!pip install openpyxl\n",
    "import pandas as pd\n",
    "df=pd.read_excel('C:/Users/Admin/Desktop/book1.xlsx')\n",
    "print(df)                 "
   ]
  },
  {
   "cell_type": "code",
   "execution_count": null,
   "id": "fe3d170c-6f0e-45d2-93bc-fcdc5a01b5ea",
   "metadata": {},
   "outputs": [],
   "source": []
  }
 ],
 "metadata": {
  "kernelspec": {
   "display_name": "Python 3 (ipykernel)",
   "language": "python",
   "name": "python3"
  },
  "language_info": {
   "codemirror_mode": {
    "name": "ipython",
    "version": 3
   },
   "file_extension": ".py",
   "mimetype": "text/x-python",
   "name": "python",
   "nbconvert_exporter": "python",
   "pygments_lexer": "ipython3",
   "version": "3.11.7"
  }
 },
 "nbformat": 4,
 "nbformat_minor": 5
}
