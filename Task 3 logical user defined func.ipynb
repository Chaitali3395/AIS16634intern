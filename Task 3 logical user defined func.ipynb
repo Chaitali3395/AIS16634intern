{
 "cells": [
  {
   "cell_type": "code",
   "execution_count": 4,
   "id": "538b0aac-a01d-4ce5-a5e7-797d26d8145d",
   "metadata": {},
   "outputs": [
    {
     "name": "stdin",
     "output_type": "stream",
     "text": [
      "enter number 10\n"
     ]
    },
    {
     "name": "stdout",
     "output_type": "stream",
     "text": [
      "the number 10 is Even\n"
     ]
    }
   ],
   "source": [
    "#Logical user defined functions\n",
    "#1\n",
    "def is_ev_od(n):\n",
    "    if n %2==0:\n",
    "        return \"Even\"\n",
    "    else:\n",
    "        return \"Odd\"\n",
    "num=int(input(\"enter number\"))\n",
    "result=is_ev_od(num)\n",
    "print(\"the number\",num,\"is\",result)\n",
    "        "
   ]
  },
  {
   "cell_type": "code",
   "execution_count": 14,
   "id": "f10cb562-afcf-49f3-be22-303fb1814e18",
   "metadata": {},
   "outputs": [
    {
     "name": "stdin",
     "output_type": "stream",
     "text": [
      "enter english marks 70\n",
      "enter marathi marks 70\n",
      "enter physics marks 70\n"
     ]
    },
    {
     "name": "stdout",
     "output_type": "stream",
     "text": [
      "percentage are 70.0\n",
      "grade is: B\n"
     ]
    }
   ],
   "source": [
    "#2\n",
    "def per(eng,mar,hindi):\n",
    "    percentage=(eng+mar+hindi)/3\n",
    "    return percentage\n",
    "m1=int(input(\"enter english marks\"))\n",
    "m2=int(input(\"enter marathi marks\"))\n",
    "m3=int(input(\"enter physics marks\"))\n",
    "result=per(m1,m2,m3)\n",
    "print(\"percentage are\",result)\n",
    "def grade_letter(score):\n",
    "    if score>75:\n",
    "        return \"A\"\n",
    "    elif score>50 and score<75:\n",
    "        return \"B\"\n",
    "    else:\n",
    "        return \"C\"\n",
    "def display_grade(result):\n",
    "    grade=grade_letter(result)\n",
    "    print(\"grade is:\",grade)\n",
    "display_grade(result)    "
   ]
  },
  {
   "cell_type": "code",
   "execution_count": 22,
   "id": "6d9fd23e-2e84-4dd2-bacb-777b4ade9e28",
   "metadata": {},
   "outputs": [
    {
     "name": "stdin",
     "output_type": "stream",
     "text": [
      "enter a num 3\n"
     ]
    },
    {
     "name": "stdout",
     "output_type": "stream",
     "text": [
      "factorial is : 6\n"
     ]
    }
   ],
   "source": [
    "#3\n",
    "def factorial(n):\n",
    "    fact=1\n",
    "    for i in range(1,n+1):\n",
    "        fact=fact*i\n",
    "    return fact\n",
    "number=int(input(\"enter a num\"))\n",
    "f=factorial(number)\n",
    "print(\"factorial is :\",f)"
   ]
  },
  {
   "cell_type": "code",
   "execution_count": 24,
   "id": "9b3541a0-75be-4a0d-802f-c2b23215b271",
   "metadata": {},
   "outputs": [
    {
     "name": "stdin",
     "output_type": "stream",
     "text": [
      "enter radius 2\n"
     ]
    },
    {
     "name": "stdout",
     "output_type": "stream",
     "text": [
      "12.56\n"
     ]
    }
   ],
   "source": [
    "#4\n",
    "def area(r):\n",
    "    pi=3.14\n",
    "    a=pi*r**2\n",
    "    return a\n",
    "rad=int(input(\"enter radius\"))\n",
    "print(area(rad))"
   ]
  },
  {
   "cell_type": "code",
   "execution_count": 26,
   "id": "c217c739-a950-45eb-be72-0f7f4965d4f2",
   "metadata": {},
   "outputs": [
    {
     "name": "stdin",
     "output_type": "stream",
     "text": [
      "enter a num hello\n"
     ]
    },
    {
     "name": "stdout",
     "output_type": "stream",
     "text": [
      "olleh\n"
     ]
    }
   ],
   "source": [
    "#5\n",
    "def rev_st(s):\n",
    "    return s[::-1]\n",
    "original_st=input(\"enter a num\")\n",
    "reverse=rev_st(original_st)\n",
    "print(reverse)"
   ]
  },
  {
   "cell_type": "code",
   "execution_count": 28,
   "id": "09a1f17e-bda4-41d9-ad53-7637808a707b",
   "metadata": {},
   "outputs": [
    {
     "name": "stdin",
     "output_type": "stream",
     "text": [
      "enter a strin hello\n"
     ]
    },
    {
     "name": "stdout",
     "output_type": "stream",
     "text": [
      "2\n"
     ]
    }
   ],
   "source": [
    "#6\n",
    "def vowel_count(s):\n",
    "    c=0\n",
    "    vowels='aeiouAEIOU'\n",
    "    for char in s:\n",
    "        if char in vowels:\n",
    "             c=c+1\n",
    "        \n",
    "    return c\n",
    "st=input(\"enter a strin\")\n",
    "v_count=vowel_count(st)\n",
    "print(v_count)"
   ]
  },
  {
   "cell_type": "code",
   "execution_count": 35,
   "id": "0219ddf2-51fb-426d-8632-8819683a0901",
   "metadata": {},
   "outputs": [
    {
     "name": "stdin",
     "output_type": "stream",
     "text": [
      "enter a number 19\n"
     ]
    },
    {
     "name": "stdout",
     "output_type": "stream",
     "text": [
      " it is prime\n"
     ]
    }
   ],
   "source": [
    "#7\n",
    "def prime(n):\n",
    "    if n <=1:\n",
    "        return \"not prime\"\n",
    "    \n",
    "    else:\n",
    "        i=2\n",
    "        while i<n:\n",
    "            if n%i==0:\n",
    "                return \"it is not prime\"\n",
    "            else:\n",
    "                return \" it is prime\"\n",
    "            i=i+1    \n",
    "num=int(input(\"enter a number\"))\n",
    "print(prime(num))"
   ]
  },
  {
   "cell_type": "code",
   "execution_count": 41,
   "id": "da3977b4-d67c-4479-806a-8bed5d7eada0",
   "metadata": {},
   "outputs": [
    {
     "name": "stdout",
     "output_type": "stream",
     "text": [
      "maximum num: 12\n"
     ]
    }
   ],
   "source": [
    "#8\n",
    "def max(n):\n",
    "    m=n[0]\n",
    "    for x in n:\n",
    "        if x>m:\n",
    "            m=x\n",
    "    return m\n",
    "l=[3,12,3,5,6]\n",
    "max_num=max(l)\n",
    "print(\"maximum num:\",max_num)"
   ]
  },
  {
   "cell_type": "code",
   "execution_count": 42,
   "id": "71f38cb9-7551-4490-8363-70df440714b2",
   "metadata": {},
   "outputs": [
    {
     "name": "stdout",
     "output_type": "stream",
     "text": [
      "98.6 Fahrenheit is 37.00 Celsius\n"
     ]
    }
   ],
   "source": [
    "#9\n",
    "def fahrenheit_to_celsius(fahrenheit):\n",
    "    celsius = (fahrenheit - 32) * 5.0/9.0\n",
    "    return celsius\n",
    "fahrenheit_temp = 98.6\n",
    "celsius_temp = fahrenheit_to_celsius(fahrenheit_temp)\n",
    "print(f\"{fahrenheit_temp} Fahrenheit is {celsius_temp:.2f} Celsius\")"
   ]
  },
  {
   "cell_type": "code",
   "execution_count": 43,
   "id": "ef53f869-2ce1-4d58-bb30-f0f241d6fcc0",
   "metadata": {},
   "outputs": [
    {
     "name": "stdout",
     "output_type": "stream",
     "text": [
      "The area of the triangle with base 5 and height 8 is 20.0.\n"
     ]
    }
   ],
   "source": [
    "#10\n",
    "def calculate_triangle_area(base, height):\n",
    "    area = 0.5 * base * height\n",
    "    return area\n",
    "base_length = 5\n",
    "height_length = 8\n",
    "triangle_area = calculate_triangle_area(base_length, height_length)\n",
    "print(f\"The area of the triangle with base {base_length} and height {height_length} is {triangle_area}.\")"
   ]
  },
  {
   "cell_type": "code",
   "execution_count": null,
   "id": "c3886753-ed0a-430a-b2b6-acb0fe1877e8",
   "metadata": {},
   "outputs": [],
   "source": []
  }
 ],
 "metadata": {
  "kernelspec": {
   "display_name": "Python 3 (ipykernel)",
   "language": "python",
   "name": "python3"
  },
  "language_info": {
   "codemirror_mode": {
    "name": "ipython",
    "version": 3
   },
   "file_extension": ".py",
   "mimetype": "text/x-python",
   "name": "python",
   "nbconvert_exporter": "python",
   "pygments_lexer": "ipython3",
   "version": "3.11.7"
  }
 },
 "nbformat": 4,
 "nbformat_minor": 5
}
